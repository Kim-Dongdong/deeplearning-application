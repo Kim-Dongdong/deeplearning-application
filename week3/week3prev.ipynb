{
 "cells": [
  {
   "cell_type": "markdown",
   "id": "c70097ca-44ff-4f8d-a440-22a3a2de425a",
   "metadata": {},
   "source": [
    "결측치 확인, 결측치 제거 .."
   ]
  },
  {
   "cell_type": "code",
   "execution_count": 17,
   "id": "a70d52f6-d741-4af4-9122-9f3bebc65661",
   "metadata": {
    "scrolled": true
   },
   "outputs": [
    {
     "data": {
      "text/html": [
       "<div>\n",
       "<style scoped>\n",
       "    .dataframe tbody tr th:only-of-type {\n",
       "        vertical-align: middle;\n",
       "    }\n",
       "\n",
       "    .dataframe tbody tr th {\n",
       "        vertical-align: top;\n",
       "    }\n",
       "\n",
       "    .dataframe thead th {\n",
       "        text-align: right;\n",
       "    }\n",
       "</style>\n",
       "<table border=\"1\" class=\"dataframe\">\n",
       "  <thead>\n",
       "    <tr style=\"text-align: right;\">\n",
       "      <th></th>\n",
       "      <th>vhigh</th>\n",
       "      <th>vhigh.1</th>\n",
       "      <th>2</th>\n",
       "      <th>2.1</th>\n",
       "      <th>small</th>\n",
       "      <th>low</th>\n",
       "      <th>unacc</th>\n",
       "    </tr>\n",
       "  </thead>\n",
       "  <tbody>\n",
       "    <tr>\n",
       "      <th>0</th>\n",
       "      <td>vhigh</td>\n",
       "      <td>vhigh</td>\n",
       "      <td>2</td>\n",
       "      <td>2</td>\n",
       "      <td>small</td>\n",
       "      <td>med</td>\n",
       "      <td>unacc</td>\n",
       "    </tr>\n",
       "    <tr>\n",
       "      <th>1</th>\n",
       "      <td>vhigh</td>\n",
       "      <td>vhigh</td>\n",
       "      <td>2</td>\n",
       "      <td>2</td>\n",
       "      <td>small</td>\n",
       "      <td>high</td>\n",
       "      <td>unacc</td>\n",
       "    </tr>\n",
       "    <tr>\n",
       "      <th>2</th>\n",
       "      <td>vhigh</td>\n",
       "      <td>vhigh</td>\n",
       "      <td>2</td>\n",
       "      <td>2</td>\n",
       "      <td>med</td>\n",
       "      <td>low</td>\n",
       "      <td>unacc</td>\n",
       "    </tr>\n",
       "    <tr>\n",
       "      <th>3</th>\n",
       "      <td>vhigh</td>\n",
       "      <td>vhigh</td>\n",
       "      <td>2</td>\n",
       "      <td>2</td>\n",
       "      <td>med</td>\n",
       "      <td>med</td>\n",
       "      <td>unacc</td>\n",
       "    </tr>\n",
       "    <tr>\n",
       "      <th>4</th>\n",
       "      <td>vhigh</td>\n",
       "      <td>vhigh</td>\n",
       "      <td>2</td>\n",
       "      <td>2</td>\n",
       "      <td>med</td>\n",
       "      <td>high</td>\n",
       "      <td>unacc</td>\n",
       "    </tr>\n",
       "  </tbody>\n",
       "</table>\n",
       "</div>"
      ],
      "text/plain": [
       "   vhigh vhigh.1  2 2.1  small   low  unacc\n",
       "0  vhigh   vhigh  2   2  small   med  unacc\n",
       "1  vhigh   vhigh  2   2  small  high  unacc\n",
       "2  vhigh   vhigh  2   2    med   low  unacc\n",
       "3  vhigh   vhigh  2   2    med   med  unacc\n",
       "4  vhigh   vhigh  2   2    med  high  unacc"
      ]
     },
     "execution_count": 17,
     "metadata": {},
     "output_type": "execute_result"
    }
   ],
   "source": [
    "import pandas as pd\n",
    "import numpy as np\n",
    "import matplotlib.pyplot as plt\n",
    "from sklearn.model_selection import train_test_split\n",
    "from sklearn.linear_model import LinearRegression\n",
    "from sklearn.svm import SVR\n",
    "from sklearn.ensemble import RandomForestRegressor\n",
    "from sklearn.tree import DecisionTreeRegressor\n",
    "from sklearn.metrics import mean_squared_error\n",
    "from sklearn.neighbors import KNeighborsRegressor \n",
    "from sklearn.preprocessing import LabelEncoder\n",
    "from sklearn.metrics import accuracy_score, confusion_matrix\n",
    "import seaborn as sns\n",
    "car = pd.read_csv(\"C:/Users/Admin/Desktop/3-1/인공지능개론/week3/car_evaluation.csv\")\n",
    "\n",
    "car.head()\n"
   ]
  },
  {
   "cell_type": "code",
   "execution_count": 18,
   "id": "32ab0244-99d3-42a7-ae49-0c60e512f292",
   "metadata": {},
   "outputs": [
    {
     "name": "stdout",
     "output_type": "stream",
     "text": [
      "      vhigh vhigh.1      2   2.1  small   low  unacc\n",
      "0     vhigh   vhigh      2     2  small   med  unacc\n",
      "1     vhigh   vhigh      2     2  small  high  unacc\n",
      "2     vhigh   vhigh      2     2    med   low  unacc\n",
      "3     vhigh   vhigh      2     2    med   med  unacc\n",
      "4     vhigh   vhigh      2     2    med  high  unacc\n",
      "...     ...     ...    ...   ...    ...   ...    ...\n",
      "1722    low     low  5more  more    med   med   good\n",
      "1723    low     low  5more  more    med  high  vgood\n",
      "1724    low     low  5more  more    big   low  unacc\n",
      "1725    low     low  5more  more    big   med   good\n",
      "1726    low     low  5more  more    big  high  vgood\n",
      "\n",
      "[1727 rows x 7 columns]\n"
     ]
    }
   ],
   "source": [
    "car.head(), car.columns\n",
    "\n",
    "print(car)"
   ]
  },
  {
   "cell_type": "code",
   "execution_count": 22,
   "id": "e7474d5e-d764-48f1-8af7-9551716a8e04",
   "metadata": {},
   "outputs": [
    {
     "name": "stdout",
     "output_type": "stream",
     "text": [
      "vhigh      0\n",
      "vhigh.1    0\n",
      "2          0\n",
      "2.1        0\n",
      "small      0\n",
      "low        0\n",
      "unacc      0\n",
      "dtype: int64\n"
     ]
    }
   ],
   "source": [
    "print(car.isnull().sum()) # 결측치 없음"
   ]
  },
  {
   "cell_type": "code",
   "execution_count": 28,
   "id": "1ccdf9f4-8e1d-40c1-a6d2-7650f751b757",
   "metadata": {},
   "outputs": [
    {
     "name": "stdout",
     "output_type": "stream",
     "text": [
      "      vhigh  vhigh.1  2  2.1  small  low  unacc\n",
      "0         3        3  0    0      2    2      2\n",
      "1         3        3  0    0      2    0      2\n",
      "2         3        3  0    0      1    1      2\n",
      "3         3        3  0    0      1    2      2\n",
      "4         3        3  0    0      1    0      2\n",
      "...     ...      ... ..  ...    ...  ...    ...\n",
      "1722      1        1  3    2      1    2      1\n",
      "1723      1        1  3    2      1    0      3\n",
      "1724      1        1  3    2      0    1      2\n",
      "1725      1        1  3    2      0    2      1\n",
      "1726      1        1  3    2      0    0      3\n",
      "\n",
      "[1727 rows x 7 columns]\n"
     ]
    }
   ],
   "source": [
    "# 인코딩\n",
    "encoder = LabelEncoder()\n",
    "\n",
    "for column in car.select_dtypes(include=['object']).columns:\n",
    "    car[column] = encoder.fit_transform(car[column])\n",
    "print(car)"
   ]
  },
  {
   "cell_type": "code",
   "execution_count": 44,
   "id": "978d7623-6162-4304-889b-4509d4161859",
   "metadata": {
    "scrolled": true
   },
   "outputs": [
    {
     "name": "stdout",
     "output_type": "stream",
     "text": [
      "      vhigh  vhigh.1  2  2.1  small  low\n",
      "0         3        3  0    0      2    2\n",
      "1         3        3  0    0      2    0\n",
      "2         3        3  0    0      1    1\n",
      "3         3        3  0    0      1    2\n",
      "4         3        3  0    0      1    0\n",
      "...     ...      ... ..  ...    ...  ...\n",
      "1722      1        1  3    2      1    2\n",
      "1723      1        1  3    2      1    0\n",
      "1724      1        1  3    2      0    1\n",
      "1725      1        1  3    2      0    2\n",
      "1726      1        1  3    2      0    0\n",
      "\n",
      "[1727 rows x 6 columns]\n",
      "0       2\n",
      "1       2\n",
      "2       2\n",
      "3       2\n",
      "4       2\n",
      "       ..\n",
      "1722    1\n",
      "1723    3\n",
      "1724    2\n",
      "1725    1\n",
      "1726    3\n",
      "Name: unacc, Length: 1727, dtype: int32\n"
     ]
    }
   ],
   "source": [
    "# 특징과 결과값 지정\n",
    "X = car.drop(['unacc'], axis=1)\n",
    "Y = car['unacc']\n",
    "\n",
    "print(X)\n",
    "print(Y)\n",
    "\n",
    "# 훈련 데이터와 테스트 데이터 분리 (80% 훈련, 20% 테스트)\n",
    "X_train, X_test, y_train, y_test = train_test_split(X, Y, test_size=0.2, random_state=42)"
   ]
  },
  {
   "cell_type": "code",
   "execution_count": 48,
   "id": "40c3fc46-14cd-4252-b410-2b16e6298197",
   "metadata": {},
   "outputs": [],
   "source": [
    "# 전처리\n",
    "from sklearn.preprocessing import StandardScaler\n",
    "ss = StandardScaler()\n",
    "ss.fit(X_train) # StandardScaler 꼭 train 데이터의 input으로 해줘야한다.\n",
    "train_scaled = ss.transform(X_train)\n",
    "test_scaled = ss.transform(X_test)"
   ]
  },
  {
   "cell_type": "code",
   "execution_count": 64,
   "id": "fe1d1e65-80a8-4941-9c47-55cd87196606",
   "metadata": {},
   "outputs": [
    {
     "name": "stdout",
     "output_type": "stream",
     "text": [
      "Linear Regression\n",
      "[1.71474164 1.58537081 1.69427692 1.42515971 1.21997992]\n",
      "정확도(Accuracy): 0.08092485549132948\n",
      "혼동 행렬(Confusion Matrix):\n",
      " [[ 13  64   0   0]\n",
      " [  0  15   0   0]\n",
      " [  0 237   0   0]\n",
      " [  0  17   0   0]]\n",
      "rf\n",
      "[1.71474164 1.58537081 1.69427692 1.42515971 1.21997992]\n",
      "정확도(Accuracy): 0.08092485549132948\n",
      "혼동 행렬(Confusion Matrix):\n",
      " [[ 13  64   0   0]\n",
      " [  0  15   0   0]\n",
      " [  0 237   0   0]\n",
      " [  0  17   0   0]]\n",
      "svr\n",
      "[1.71474164 1.58537081 1.69427692 1.42515971 1.21997992]\n",
      "정확도(Accuracy): 0.08092485549132948\n",
      "혼동 행렬(Confusion Matrix):\n",
      " [[ 13  64   0   0]\n",
      " [  0  15   0   0]\n",
      " [  0 237   0   0]\n",
      " [  0  17   0   0]]\n",
      "Decision Tree 모델\n",
      "정확도(Accuracy): 0.2514450867052023\n",
      "혼동 행렬(Confusion Matrix):\n",
      " [[ 74   3   0   0]\n",
      " [  2  13   0   0]\n",
      " [  1 236   0   0]\n",
      " [  1  16   0   0]]\n",
      "K-Nearest Neighbors 모델\n",
      "정확도(Accuracy): 0.08092485549132948\n",
      "혼동 행렬(Confusion Matrix):\n",
      " [[ 13  64   0   0]\n",
      " [  0  15   0   0]\n",
      " [  0 237   0   0]\n",
      " [  0  17   0   0]]\n"
     ]
    }
   ],
   "source": [
    "# 모델 정의\n",
    "models = {\n",
    "    'Decision Tree': DecisionTreeRegressor(),\n",
    "    'K-Nearest Neighbors': KNeighborsRegressor()\n",
    "}\n",
    "\n",
    "print(\"Linear Regression\")\n",
    "lr = LinearRegression()\n",
    "lr.fit(X_train, y_train)\n",
    "print(lr.predict(X_test[:5]))\n",
    "print(\"정확도(Accuracy):\", accuracy_score(y_test, y_pred_binary))\n",
    "print(\"혼동 행렬(Confusion Matrix):\\n\", confusion_matrix(y_test, y_pred_binary))\n",
    "\n",
    "print(\"rf\")\n",
    "svm = RandomForestRegressor()\n",
    "lr.fit(X_train, y_train)\n",
    "print(lr.predict(X_test[:5]))\n",
    "print(\"정확도(Accuracy):\", accuracy_score(y_test, y_pred_binary))\n",
    "print(\"혼동 행렬(Confusion Matrix):\\n\", confusion_matrix(y_test, y_pred_binary))\n",
    "\n",
    "print(\"svr\")\n",
    "svm = SVR()\n",
    "lr.fit(X_train, y_train)\n",
    "print(lr.predict(X_test[:5]))\n",
    "print(\"정확도(Accuracy):\", accuracy_score(y_test, y_pred_binary))\n",
    "print(\"혼동 행렬(Confusion Matrix):\\n\", confusion_matrix(y_test, y_pred_binary))\n",
    "\n",
    "for model_name, model in models.items():\n",
    "    model.fit(X_train, y_train)  # 훈련\n",
    "    y_pred = model.predict(X_test)  # 예측\n",
    "    \n",
    "    # 연속적인 예측값을 0 또는 1로 변환해야 정확도와 혼동 행렬 확인 가능\n",
    "    y_pred_binary = np.where(y_pred > 0.5, 1, 0)\n",
    "\n",
    "\n",
    "    print(f\"{model_name} 모델\")\n",
    "    print(\"정확도(Accuracy):\", accuracy_score(y_test, y_pred_binary))\n",
    "    print(\"혼동 행렬(Confusion Matrix):\\n\", confusion_matrix(y_test, y_pred_binary))"
   ]
  },
  {
   "cell_type": "code",
   "execution_count": null,
   "id": "073feb99-79d4-4f0f-928d-18531f8fd315",
   "metadata": {},
   "outputs": [],
   "source": []
  }
 ],
 "metadata": {
  "kernelspec": {
   "display_name": "Python [conda env:base] *",
   "language": "python",
   "name": "conda-base-py"
  },
  "language_info": {
   "codemirror_mode": {
    "name": "ipython",
    "version": 3
   },
   "file_extension": ".py",
   "mimetype": "text/x-python",
   "name": "python",
   "nbconvert_exporter": "python",
   "pygments_lexer": "ipython3",
   "version": "3.12.7"
  }
 },
 "nbformat": 4,
 "nbformat_minor": 5
}
