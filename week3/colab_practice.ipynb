{
  "nbformat": 4,
  "nbformat_minor": 0,
  "metadata": {
    "colab": {
      "provenance": []
    },
    "kernelspec": {
      "name": "python3",
      "display_name": "Python 3"
    },
    "language_info": {
      "name": "python"
    }
  },
  "cells": [
    {
      "cell_type": "code",
      "execution_count": 60,
      "metadata": {
        "id": "kHTiFnoMrKR0"
      },
      "outputs": [],
      "source": [
        "from sklearn.datasets import load_breast_cancer\n",
        "import pandas as pd\n",
        "import numpy as np\n",
        "import matplotlib.pyplot as plt\n",
        "from sklearn.model_selection import train_test_split\n",
        "from sklearn.preprocessing import StandardScaler, LabelEncoder\n",
        "from sklearn.neighbors import KNeighborsClassifier\n",
        "import seaborn as sns"
      ]
    },
    {
      "cell_type": "code",
      "source": [
        "df = pd.read_csv(\"/content/drive/MyDrive/car_evaluation.csv\", header=None,\n",
        "                 names=['price', 'maint', 'doors', 'persons', 'lug_capacity', 'safety', 'output'])\n",
        "# index_col=0은 첫 번째 열(0번째 열)을 DataFrame의 인덱스로 설정하는 옵션\n",
        "# 컬럼이 없으므로 header=None을 활용\n",
        "# names를 사용해 지정해줘도 된다.\n",
        "print(df)"
      ],
      "metadata": {
        "colab": {
          "base_uri": "https://localhost:8080/"
        },
        "id": "Y5kcdeXXsKTP",
        "outputId": "bb012fd5-0d57-46ea-b41d-5e0b46677fe2"
      },
      "execution_count": 61,
      "outputs": [
        {
          "output_type": "stream",
          "name": "stdout",
          "text": [
            "      price  maint  doors persons lug_capacity safety output\n",
            "0     vhigh  vhigh      2       2        small    low  unacc\n",
            "1     vhigh  vhigh      2       2        small    med  unacc\n",
            "2     vhigh  vhigh      2       2        small   high  unacc\n",
            "3     vhigh  vhigh      2       2          med    low  unacc\n",
            "4     vhigh  vhigh      2       2          med    med  unacc\n",
            "...     ...    ...    ...     ...          ...    ...    ...\n",
            "1723    low    low  5more    more          med    med   good\n",
            "1724    low    low  5more    more          med   high  vgood\n",
            "1725    low    low  5more    more          big    low  unacc\n",
            "1726    low    low  5more    more          big    med   good\n",
            "1727    low    low  5more    more          big   high  vgood\n",
            "\n",
            "[1728 rows x 7 columns]\n"
          ]
        }
      ]
    },
    {
      "cell_type": "code",
      "source": [
        "# 컬럼명을 입히고 싶으면 pd,DataFrame을 사용해도 된다.\n",
        "df = pd.DataFrame(df, columns=['price', 'maint', 'doors', 'persons', 'lug_capacity', 'safety', 'output'],\n",
        "                  dtype='object')\n",
        "print(df)"
      ],
      "metadata": {
        "colab": {
          "base_uri": "https://localhost:8080/"
        },
        "id": "oF9_INoAsNdB",
        "outputId": "ff107be8-a00b-497e-b4f1-eadf2b06e093"
      },
      "execution_count": 62,
      "outputs": [
        {
          "output_type": "stream",
          "name": "stdout",
          "text": [
            "      price  maint  doors persons lug_capacity safety output\n",
            "0     vhigh  vhigh      2       2        small    low  unacc\n",
            "1     vhigh  vhigh      2       2        small    med  unacc\n",
            "2     vhigh  vhigh      2       2        small   high  unacc\n",
            "3     vhigh  vhigh      2       2          med    low  unacc\n",
            "4     vhigh  vhigh      2       2          med    med  unacc\n",
            "...     ...    ...    ...     ...          ...    ...    ...\n",
            "1723    low    low  5more    more          med    med   good\n",
            "1724    low    low  5more    more          med   high  vgood\n",
            "1725    low    low  5more    more          big    low  unacc\n",
            "1726    low    low  5more    more          big    med   good\n",
            "1727    low    low  5more    more          big   high  vgood\n",
            "\n",
            "[1728 rows x 7 columns]\n"
          ]
        }
      ]
    },
    {
      "cell_type": "code",
      "source": [
        "# 결측치 확인\n",
        "print(df.isnull().sum())"
      ],
      "metadata": {
        "colab": {
          "base_uri": "https://localhost:8080/"
        },
        "id": "Trecq5HDuSY_",
        "outputId": "2ca8e1fb-5c69-4df7-f88e-98b05f282516"
      },
      "execution_count": 63,
      "outputs": [
        {
          "output_type": "stream",
          "name": "stdout",
          "text": [
            "price           0\n",
            "maint           0\n",
            "doors           0\n",
            "persons         0\n",
            "lug_capacity    0\n",
            "safety          0\n",
            "output          0\n",
            "dtype: int64\n"
          ]
        }
      ]
    },
    {
      "cell_type": "code",
      "source": [
        "# 인코딩\n",
        "encoder = LabelEncoder()\n",
        "\n",
        "for column in df.select_dtypes(include=['object']).columns:\n",
        "    df[column] = encoder.fit_transform(df[column])\n",
        "print(df)"
      ],
      "metadata": {
        "colab": {
          "base_uri": "https://localhost:8080/"
        },
        "id": "IoWCQ9QnwEzJ",
        "outputId": "880bddfb-a09b-4748-cad3-a62698486a64"
      },
      "execution_count": 64,
      "outputs": [
        {
          "output_type": "stream",
          "name": "stdout",
          "text": [
            "      price  maint  doors  persons  lug_capacity  safety  output\n",
            "0         3      3      0        0             2       1       2\n",
            "1         3      3      0        0             2       2       2\n",
            "2         3      3      0        0             2       0       2\n",
            "3         3      3      0        0             1       1       2\n",
            "4         3      3      0        0             1       2       2\n",
            "...     ...    ...    ...      ...           ...     ...     ...\n",
            "1723      1      1      3        2             1       2       1\n",
            "1724      1      1      3        2             1       0       3\n",
            "1725      1      1      3        2             0       1       2\n",
            "1726      1      1      3        2             0       2       1\n",
            "1727      1      1      3        2             0       0       3\n",
            "\n",
            "[1728 rows x 7 columns]\n"
          ]
        }
      ]
    },
    {
      "cell_type": "code",
      "source": [
        "# 레이블 확인\n",
        "# 각 값이 몇 번 등장했는지 빈도수를 계산\n",
        "df['output'].value_counts()"
      ],
      "metadata": {
        "colab": {
          "base_uri": "https://localhost:8080/",
          "height": 241
        },
        "id": "LwMaMZ9gwRwo",
        "outputId": "19ddeb7c-1f6c-43bc-ca09-87c0297ee263"
      },
      "execution_count": 65,
      "outputs": [
        {
          "output_type": "execute_result",
          "data": {
            "text/plain": [
              "output\n",
              "2    1210\n",
              "0     384\n",
              "1      69\n",
              "3      65\n",
              "Name: count, dtype: int64"
            ],
            "text/html": [
              "<div>\n",
              "<style scoped>\n",
              "    .dataframe tbody tr th:only-of-type {\n",
              "        vertical-align: middle;\n",
              "    }\n",
              "\n",
              "    .dataframe tbody tr th {\n",
              "        vertical-align: top;\n",
              "    }\n",
              "\n",
              "    .dataframe thead th {\n",
              "        text-align: right;\n",
              "    }\n",
              "</style>\n",
              "<table border=\"1\" class=\"dataframe\">\n",
              "  <thead>\n",
              "    <tr style=\"text-align: right;\">\n",
              "      <th></th>\n",
              "      <th>count</th>\n",
              "    </tr>\n",
              "    <tr>\n",
              "      <th>output</th>\n",
              "      <th></th>\n",
              "    </tr>\n",
              "  </thead>\n",
              "  <tbody>\n",
              "    <tr>\n",
              "      <th>2</th>\n",
              "      <td>1210</td>\n",
              "    </tr>\n",
              "    <tr>\n",
              "      <th>0</th>\n",
              "      <td>384</td>\n",
              "    </tr>\n",
              "    <tr>\n",
              "      <th>1</th>\n",
              "      <td>69</td>\n",
              "    </tr>\n",
              "    <tr>\n",
              "      <th>3</th>\n",
              "      <td>65</td>\n",
              "    </tr>\n",
              "  </tbody>\n",
              "</table>\n",
              "</div><br><label><b>dtype:</b> int64</label>"
            ]
          },
          "metadata": {},
          "execution_count": 65
        }
      ]
    },
    {
      "cell_type": "code",
      "source": [
        "# 특징과 결과값 지정\n",
        "# dataframe과 numpy의 차이점\n",
        "# dataframe은 행과 열을 가진 표(테이블) 형태이고, numpy는 다차원 배열이다. 즉 numpy로 변경하고 계산한다.\n",
        "# 우리가 앞에서 데이터프레임을 사용한 이유는 행과 열을 통해서 데이터를 전처리해줘야하기 때문이다.\n",
        "# 최종적으로 머신러닝에 적용하기 전 numpy로 변환한다. -> numpy가 더욱 빠르고, 데이터를 추적하고 분석하기 편하기 때문이다.\n",
        "X = df.drop(['output'], axis=1).values\n",
        "y = df['output'].values\n",
        "\n",
        "print(X[:5])\n",
        "print(y[:5])"
      ],
      "metadata": {
        "colab": {
          "base_uri": "https://localhost:8080/"
        },
        "id": "RBXZPnfoxUzz",
        "outputId": "cce78a3f-6375-448c-d2e2-479aa6f995e6"
      },
      "execution_count": 66,
      "outputs": [
        {
          "output_type": "stream",
          "name": "stdout",
          "text": [
            "[[3 3 0 0 2 1]\n",
            " [3 3 0 0 2 2]\n",
            " [3 3 0 0 2 0]\n",
            " [3 3 0 0 1 1]\n",
            " [3 3 0 0 1 2]]\n",
            "[2 2 2 2 2]\n"
          ]
        }
      ]
    },
    {
      "cell_type": "code",
      "source": [
        "# 스케일러(표준화한다)\n",
        "scaler = StandardScaler()\n",
        "X = scaler.fit_transform(X)\n",
        "\n",
        "# 훈련 데이터와 테스트 데이터 분리 (80% 훈련, 20% 테스트)\n",
        "X_train, X_test, y_train, y_test = train_test_split(X, y, test_size=0.2, random_state=42)"
      ],
      "metadata": {
        "id": "ZNu2c5DN0wnu"
      },
      "execution_count": 67,
      "outputs": []
    },
    {
      "cell_type": "code",
      "source": [
        "# 행과 열 확인해서 shape 확인하기\n",
        "X_train.shape, X_test.shape, y_train.shape, y_test.shape\n",
        "\n"
      ],
      "metadata": {
        "colab": {
          "base_uri": "https://localhost:8080/"
        },
        "id": "dm771p17xfmv",
        "outputId": "d0586f76-e47f-4851-d917-23f149fe5454"
      },
      "execution_count": 68,
      "outputs": [
        {
          "output_type": "execute_result",
          "data": {
            "text/plain": [
              "((1382, 6), (346, 6), (1382,), (346,))"
            ]
          },
          "metadata": {},
          "execution_count": 68
        }
      ]
    },
    {
      "cell_type": "code",
      "source": [
        "from sklearn.linear_model import LogisticRegression\n",
        "from sklearn.svm import SVC\n",
        "from sklearn.neural_network import MLPClassifier\n",
        "from sklearn.tree import DecisionTreeClassifier\n",
        "from sklearn.metrics import accuracy_score\n",
        "from sklearn.metrics import confusion_matrix"
      ],
      "metadata": {
        "id": "Q6KzCV8_zvwl"
      },
      "execution_count": 69,
      "outputs": []
    },
    {
      "cell_type": "markdown",
      "source": [
        "### Confusion Matrix란?\n",
        "- 분류 모델의 예측 결과를 분석하는 데 사용\n",
        "- 어떤 행렬이 분류가 잘 되었는지 안되었는지 시각화해서 확인할 수 있음"
      ],
      "metadata": {
        "id": "crFlkaIP12Hw"
      }
    },
    {
      "cell_type": "code",
      "source": [
        "clf_svm = SVC(random_state=0)\n",
        "clf_svm.fit(X_train, y_train)\n",
        "\n",
        "pred_svm = clf_svm.predict(X_test)\n",
        "\n",
        "print(\"\\n--- SVM Classifier ---\")\n",
        "print(accuracy_score(y_test, pred_svm))\n",
        "print(confusion_matrix(y_test, pred_svm))"
      ],
      "metadata": {
        "colab": {
          "base_uri": "https://localhost:8080/"
        },
        "id": "2wPi8HGf1HhN",
        "outputId": "2bebcc34-f2e5-4051-a360-339ff24268c3"
      },
      "execution_count": 70,
      "outputs": [
        {
          "output_type": "stream",
          "name": "stdout",
          "text": [
            "\n",
            "--- SVM Classifier ---\n",
            "0.8988439306358381\n",
            "[[ 67   5  11   0]\n",
            " [  6   4   0   1]\n",
            " [ 10   0 225   0]\n",
            " [  2   0   0  15]]\n"
          ]
        }
      ]
    },
    {
      "cell_type": "markdown",
      "source": [
        "## 분류 회귀 차이점\n",
        "- 공통점\n",
        ": 예측하는것\n",
        "- 차이점\n",
        "  - 회귀: 연속적인 값 예측(0~100), 레이블 사이에 연관성 존재, MSE 사용\n",
        "  - 분류: 이산적인 값 예측(0, 1), 레이블 사이에 연관성 없음\n",
        "  - 분류와 회귀 사이의 API가 다르다\n",
        "\n",
        "나이를 예측하는건?\n",
        "- 순서 또는 연관성이 있으면 회귀, 연관성이 전혀 없으면 분류\n",
        "- 인코딩할때는 연관성이 생긴다. -> 1, 2, 3을 표현할 때 001, 010, 100 이런식으로 인코딩한다. -> one-hot-encoding\n"
        "\n"
        "- accuracy_score와 confusion_matrix 및 참고사항: https://chatgpt.com/share/67da6525-7db4-8011-90dc-a6ceb9c46a20\n"
      ],
      "metadata": {
        "id": "dUYg-xCs3Jxn"
      }
    },
    {
      "cell_type": "code",
      "source": [
        "# Build a logistic regression classifier and predict\n",
        "\n",
        "clf_lr = LogisticRegression(random_state=0)\n",
        "clf_lr.fit(X_train, y_train)\n",
        "\n",
        "pred_lr = clf_lr.predict(X_test)\n",
        "\n",
        "print (\"\\n--- Logistic Regression Classifier ---\")\n",
        "print (accuracy_score(y_test, pred_lr))\n",
        "print (confusion_matrix(y_test, pred_lr))"
      ],
      "metadata": {
        "colab": {
          "base_uri": "https://localhost:8080/"
        },
        "id": "LRmIEAZr0FUS",
        "outputId": "7cdeb39c-8600-46c8-c8d3-5894e2151f25"
      },
      "execution_count": 71,
      "outputs": [
        {
          "output_type": "stream",
          "name": "stdout",
          "text": [
            "\n",
            "--- Logistic Regression Classifier ---\n",
            "0.661849710982659\n",
            "[[ 12   0  68   3]\n",
            " [  2   0   9   0]\n",
            " [ 17   0 217   1]\n",
            " [ 12   0   5   0]]\n"
          ]
        }
      ]
    },
    {
      "cell_type": "code",
      "source": [
        "clf_nn = MLPClassifier(random_state=0)\n",
        "clf_nn.fit(X_train, y_train)\n",
        "\n",
        "pred_nn = clf_nn.predict(X_test)\n",
        "\n",
        "print (\"\\n--- Neural Network Classifier ---\")\n",
        "print (accuracy_score(y_test, pred_nn))\n",
        "print (confusion_matrix(y_test, pred_nn))"
      ],
      "metadata": {
        "colab": {
          "base_uri": "https://localhost:8080/"
        },
        "id": "qz7vebyV0Mm7",
        "outputId": "17c24fd3-72b0-4631-d7c2-af1a87b2581c"
      },
      "execution_count": 72,
      "outputs": [
        {
          "output_type": "stream",
          "name": "stdout",
          "text": [
            "\n",
            "--- Neural Network Classifier ---\n",
            "0.9739884393063584\n",
            "[[ 78   0   5   0]\n",
            " [  1  10   0   0]\n",
            " [  0   0 235   0]\n",
            " [  3   0   0  14]]\n"
          ]
        }
      ]
    },
    {
      "cell_type": "code",
      "source": [
        "clf_dt = DecisionTreeClassifier(random_state=0)\n",
        "clf_dt.fit(X_train, y_train)\n",
        "\n",
        "pred_dt = clf_dt.predict(X_test)\n",
        "\n",
        "print (\"\\n--- Decision Tree Classifier ---\")\n",
        "print (accuracy_score(y_test, pred_dt))\n",
        "print (confusion_matrix(y_test, pred_dt))"
      ],
      "metadata": {
        "colab": {
          "base_uri": "https://localhost:8080/"
        },
        "id": "esLYatlc0QLT",
        "outputId": "382f8d42-cd1c-4193-cb8a-43ca022e1213"
      },
      "execution_count": 73,
      "outputs": [
        {
          "output_type": "stream",
          "name": "stdout",
          "text": [
            "\n",
            "--- Decision Tree Classifier ---\n",
            "0.9682080924855492\n",
            "[[ 76   6   1   0]\n",
            " [  1  10   0   0]\n",
            " [  0   0 235   0]\n",
            " [  1   2   0  14]]\n"
          ]
        }
      ]
    },
    {
      "cell_type": "code",
      "source": [
        "from sklearn.ensemble import RandomForestClassifier\n",
        "from sklearn.metrics import accuracy_score\n",
        "import pandas as pd\n",
        "import warnings\n",
        "warnings.filterwarnings('ignore')\n",
        "\n",
        "print (\"\\n--- Radom Forest ---\")\n",
        "rf_clf = RandomForestClassifier(random_state=0)\n",
        "rf_clf.fit(X_train, y_train)\n",
        "pred = rf_clf.predict(X_test)\n",
        "print(accuracy_score(y_test,pred))\n",
        "print (confusion_matrix(y_test, pred))"
      ],
      "metadata": {
        "colab": {
          "base_uri": "https://localhost:8080/"
        },
        "id": "5RcO5Z_U0YK_",
        "outputId": "d69dd512-ca6d-4b94-ee34-0c110f7cdf84"
      },
      "execution_count": 74,
      "outputs": [
        {
          "output_type": "stream",
          "name": "stdout",
          "text": [
            "\n",
            "--- Radom Forest ---\n",
            "0.9739884393063584\n",
            "[[ 76   7   0   0]\n",
            " [  0  10   0   1]\n",
            " [  0   0 235   0]\n",
            " [  1   0   0  16]]\n"
          ]
        }
      ]
    },
    {
      "cell_type": "code",
      "source": [],
      "metadata": {
        "id": "Ztb-VtTJ0aar"
      },
      "execution_count": 74,
      "outputs": []
    }
  ]
}
