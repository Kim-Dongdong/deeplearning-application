{
  "nbformat": 4,
  "nbformat_minor": 0,
  "metadata": {
    "colab": {
      "provenance": []
    },
    "kernelspec": {
      "name": "python3",
      "display_name": "Python 3"
    },
    "language_info": {
      "name": "python"
    }
  },
  "cells": [
    {
      "cell_type": "code",
      "execution_count": 41,
      "metadata": {
        "id": "kHTiFnoMrKR0"
      },
      "outputs": [],
      "source": [
        "from sklearn.datasets import load_breast_cancer\n",
        "import pandas as pd\n",
        "import numpy as np\n",
        "import matplotlib.pyplot as plt\n",
        "from sklearn.model_selection import train_test_split\n",
        "from sklearn.preprocessing import StandardScaler, LabelEncoder\n",
        "from sklearn.neighbors import KNeighborsClassifier\n",
        "import seaborn as sns"
      ]
    },
    {
      "cell_type": "code",
      "source": [
        "df = pd.read_csv(\"/content/drive/MyDrive/car_evaluation.csv\", header=None,\n",
        "                 names=['price', 'maint', 'doors', 'persons', 'lug_capacity', 'safety', 'output'])\n",
        "# index_col=0은 첫 번째 열(0번째 열)을 DataFrame의 인덱스로 설정하는 옵션\n",
        "# 컬럼이 없으므로 header=None을 활용\n",
        "# names를 사용해 지정해줘도 된다.\n",
        "print(df)"
      ],
      "metadata": {
        "colab": {
          "base_uri": "https://localhost:8080/"
        },
        "id": "Y5kcdeXXsKTP",
        "outputId": "8b1633e4-ccf3-4675-eac9-aef52c700afb"
      },
      "execution_count": 42,
      "outputs": [
        {
          "output_type": "stream",
          "name": "stdout",
          "text": [
            "      price  maint  doors persons lug_capacity safety output\n",
            "0     vhigh  vhigh      2       2        small    low  unacc\n",
            "1     vhigh  vhigh      2       2        small    med  unacc\n",
            "2     vhigh  vhigh      2       2        small   high  unacc\n",
            "3     vhigh  vhigh      2       2          med    low  unacc\n",
            "4     vhigh  vhigh      2       2          med    med  unacc\n",
            "...     ...    ...    ...     ...          ...    ...    ...\n",
            "1723    low    low  5more    more          med    med   good\n",
            "1724    low    low  5more    more          med   high  vgood\n",
            "1725    low    low  5more    more          big    low  unacc\n",
            "1726    low    low  5more    more          big    med   good\n",
            "1727    low    low  5more    more          big   high  vgood\n",
            "\n",
            "[1728 rows x 7 columns]\n"
          ]
        }
      ]
    },
    {
      "cell_type": "code",
      "source": [
        "# 컬럼명을 입히고 싶으면 pd,DataFrame을 사용해도 된다.\n",
        "df = pd.DataFrame(df, columns=['price', 'maint', 'doors', 'persons', 'lug_capacity', 'safety', 'output'],\n",
        "                  dtype='object')\n",
        "print(df)"
      ],
      "metadata": {
        "colab": {
          "base_uri": "https://localhost:8080/"
        },
        "id": "oF9_INoAsNdB",
        "outputId": "5ecf9b0d-f017-4446-fdc6-030dff86a050"
      },
      "execution_count": 43,
      "outputs": [
        {
          "output_type": "stream",
          "name": "stdout",
          "text": [
            "      price  maint  doors persons lug_capacity safety output\n",
            "0     vhigh  vhigh      2       2        small    low  unacc\n",
            "1     vhigh  vhigh      2       2        small    med  unacc\n",
            "2     vhigh  vhigh      2       2        small   high  unacc\n",
            "3     vhigh  vhigh      2       2          med    low  unacc\n",
            "4     vhigh  vhigh      2       2          med    med  unacc\n",
            "...     ...    ...    ...     ...          ...    ...    ...\n",
            "1723    low    low  5more    more          med    med   good\n",
            "1724    low    low  5more    more          med   high  vgood\n",
            "1725    low    low  5more    more          big    low  unacc\n",
            "1726    low    low  5more    more          big    med   good\n",
            "1727    low    low  5more    more          big   high  vgood\n",
            "\n",
            "[1728 rows x 7 columns]\n"
          ]
        }
      ]
    },
    {
      "cell_type": "code",
      "source": [
        "# 결측치 확인\n",
        "print(df.isnull().sum())"
      ],
      "metadata": {
        "colab": {
          "base_uri": "https://localhost:8080/"
        },
        "id": "Trecq5HDuSY_",
        "outputId": "76f29555-f850-4836-dd72-3f5e6af8fc35"
      },
      "execution_count": 44,
      "outputs": [
        {
          "output_type": "stream",
          "name": "stdout",
          "text": [
            "price           0\n",
            "maint           0\n",
            "doors           0\n",
            "persons         0\n",
            "lug_capacity    0\n",
            "safety          0\n",
            "output          0\n",
            "dtype: int64\n"
          ]
        }
      ]
    },
    {
      "cell_type": "code",
      "source": [
        "# 인코딩\n",
        "encoder = LabelEncoder()\n",
        "\n",
        "for column in df.select_dtypes(include=['object']).columns:\n",
        "    df[column] = encoder.fit_transform(df[column])\n",
        "print(df)"
      ],
      "metadata": {
        "colab": {
          "base_uri": "https://localhost:8080/"
        },
        "id": "IoWCQ9QnwEzJ",
        "outputId": "3fe465f0-311c-439a-dfa9-11a9d8f97989"
      },
      "execution_count": 45,
      "outputs": [
        {
          "output_type": "stream",
          "name": "stdout",
          "text": [
            "      price  maint  doors  persons  lug_capacity  safety  output\n",
            "0         3      3      0        0             2       1       2\n",
            "1         3      3      0        0             2       2       2\n",
            "2         3      3      0        0             2       0       2\n",
            "3         3      3      0        0             1       1       2\n",
            "4         3      3      0        0             1       2       2\n",
            "...     ...    ...    ...      ...           ...     ...     ...\n",
            "1723      1      1      3        2             1       2       1\n",
            "1724      1      1      3        2             1       0       3\n",
            "1725      1      1      3        2             0       1       2\n",
            "1726      1      1      3        2             0       2       1\n",
            "1727      1      1      3        2             0       0       3\n",
            "\n",
            "[1728 rows x 7 columns]\n"
          ]
        }
      ]
    },
    {
      "cell_type": "code",
      "source": [
        "# 레이블 확인\n",
        "# 각 값이 몇 번 등장했는지 빈도수를 계산\n",
        "df['output'].value_counts()"
      ],
      "metadata": {
        "colab": {
          "base_uri": "https://localhost:8080/",
          "height": 241
        },
        "id": "LwMaMZ9gwRwo",
        "outputId": "7fdf29ed-b23c-4694-c89a-74d5fc19449d"
      },
      "execution_count": 46,
      "outputs": [
        {
          "output_type": "execute_result",
          "data": {
            "text/plain": [
              "output\n",
              "2    1210\n",
              "0     384\n",
              "1      69\n",
              "3      65\n",
              "Name: count, dtype: int64"
            ],
            "text/html": [
              "<div>\n",
              "<style scoped>\n",
              "    .dataframe tbody tr th:only-of-type {\n",
              "        vertical-align: middle;\n",
              "    }\n",
              "\n",
              "    .dataframe tbody tr th {\n",
              "        vertical-align: top;\n",
              "    }\n",
              "\n",
              "    .dataframe thead th {\n",
              "        text-align: right;\n",
              "    }\n",
              "</style>\n",
              "<table border=\"1\" class=\"dataframe\">\n",
              "  <thead>\n",
              "    <tr style=\"text-align: right;\">\n",
              "      <th></th>\n",
              "      <th>count</th>\n",
              "    </tr>\n",
              "    <tr>\n",
              "      <th>output</th>\n",
              "      <th></th>\n",
              "    </tr>\n",
              "  </thead>\n",
              "  <tbody>\n",
              "    <tr>\n",
              "      <th>2</th>\n",
              "      <td>1210</td>\n",
              "    </tr>\n",
              "    <tr>\n",
              "      <th>0</th>\n",
              "      <td>384</td>\n",
              "    </tr>\n",
              "    <tr>\n",
              "      <th>1</th>\n",
              "      <td>69</td>\n",
              "    </tr>\n",
              "    <tr>\n",
              "      <th>3</th>\n",
              "      <td>65</td>\n",
              "    </tr>\n",
              "  </tbody>\n",
              "</table>\n",
              "</div><br><label><b>dtype:</b> int64</label>"
            ]
          },
          "metadata": {},
          "execution_count": 46
        }
      ]
    },
    {
      "cell_type": "code",
      "source": [
        "# 특징과 결과값 지정\n",
        "# dataframe과 numpy의 차이점\n",
        "# dataframe은 행과 열을 가진 표(테이블) 형태이고, numpy는 다차원 배열이다. 즉 numpy로 변경하고 계산한다.\n",
        "# 우리가 앞에서 데이터프레임을 사용한 이유는 행과 열을 통해서 데이터를 전처리해줘야하기 때문이다.\n",
        "# 최종적으로 머신러닝에 적용하기 전 numpy로 변환한다. -> numpy가 더욱 빠르고, 데이터를 추적하고 분석하기 편하기 때문이다.\n",
        "X = df.drop(['output'], axis=1).values\n",
        "y = df['output'].values\n",
        "\n",
        "print(X[:5])\n",
        "print(y[:5])"
      ],
      "metadata": {
        "colab": {
          "base_uri": "https://localhost:8080/"
        },
        "id": "RBXZPnfoxUzz",
        "outputId": "032da283-4ca9-4dc2-95f5-e59ec1503ab0"
      },
      "execution_count": 47,
      "outputs": [
        {
          "output_type": "stream",
          "name": "stdout",
          "text": [
            "[[3 3 0 0 2 1]\n",
            " [3 3 0 0 2 2]\n",
            " [3 3 0 0 2 0]\n",
            " [3 3 0 0 1 1]\n",
            " [3 3 0 0 1 2]]\n",
            "[2 2 2 2 2]\n"
          ]
        }
      ]
    },
    {
      "cell_type": "code",
      "source": [
        "# 스케일러(표준화한다)\n",
        "scaler = StandardScaler()\n",
        "X = scaler.fit_transform(X)\n",
        "\n",
        "# 훈련 데이터와 테스트 데이터 분리 (80% 훈련, 20% 테스트)\n",
        "X_train, X_test, y_train, y_test = train_test_split(X, y, test_size=0.2, random_state=42)"
      ],
      "metadata": {
        "id": "ZNu2c5DN0wnu"
      },
      "execution_count": 48,
      "outputs": []
    },
    {
      "cell_type": "code",
      "source": [
        "# 행과 열 확인해서 shape 확인하기\n",
        "X_train.shape, X_test.shape, y_train.shape, y_test.shape\n",
        "\n"
      ],
      "metadata": {
        "colab": {
          "base_uri": "https://localhost:8080/"
        },
        "id": "dm771p17xfmv",
        "outputId": "54a75daf-eb91-424c-edea-6c33f74555b6"
      },
      "execution_count": 49,
      "outputs": [
        {
          "output_type": "execute_result",
          "data": {
            "text/plain": [
              "((1382, 6), (346, 6), (1382,), (346,))"
            ]
          },
          "metadata": {},
          "execution_count": 49
        }
      ]
    },
    {
      "cell_type": "code",
      "source": [
        "from sklearn.linear_model import LogisticRegression\n",
        "from sklearn.svm import SVC\n",
        "from sklearn.neural_network import MLPClassifier\n",
        "from sklearn.tree import DecisionTreeClassifier\n",
        "from sklearn.metrics import accuracy_score\n",
        "from sklearn.metrics import confusion_matrix"
      ],
      "metadata": {
        "id": "Q6KzCV8_zvwl"
      },
      "execution_count": 50,
      "outputs": []
    },
    {
      "cell_type": "code",
      "source": [
        "clf_svm = SVC(random_state=0)\n",
        "clf_svm.fit(X_train, y_train)\n",
        "\n",
        "pred_svm = clf_svm.predict(X_test)\n",
        "\n",
        "print(\"\\n--- SVM Classifier ---\")\n",
        "print(accuracy_score(y_test, pred_svm))\n",
        "print(confusion_matrix(y_test, pred_svm))"
      ],
      "metadata": {
        "colab": {
          "base_uri": "https://localhost:8080/"
        },
        "id": "2wPi8HGf1HhN",
        "outputId": "560f5143-e106-47b2-b0c2-79c7b61b064b"
      },
      "execution_count": 55,
      "outputs": [
        {
          "output_type": "stream",
          "name": "stdout",
          "text": [
            "\n",
            "--- SVM Classifier ---\n",
            "0.8988439306358381\n",
            "[[ 67   5  11   0]\n",
            " [  6   4   0   1]\n",
            " [ 10   0 225   0]\n",
            " [  2   0   0  15]]\n"
          ]
        }
      ]
    },
    {
      "cell_type": "code",
      "source": [
        "# Build a logistic regression classifier and predict\n",
        "\n",
        "clf_lr = LogisticRegression(random_state=0)\n",
        "clf_lr.fit(X_train, y_train)\n",
        "\n",
        "pred_lr = clf_lr.predict(X_test)\n",
        "\n",
        "print (\"\\n--- Logistic Regression Classifier ---\")\n",
        "print (accuracy_score(y_test, pred_lr))\n",
        "print (confusion_matrix(y_test, pred_lr))"
      ],
      "metadata": {
        "colab": {
          "base_uri": "https://localhost:8080/"
        },
        "id": "LRmIEAZr0FUS",
        "outputId": "56f86f9a-013c-40cc-e864-b7ed3bbfeaf3"
      },
      "execution_count": 56,
      "outputs": [
        {
          "output_type": "stream",
          "name": "stdout",
          "text": [
            "\n",
            "--- Logistic Regression Classifier ---\n",
            "0.661849710982659\n",
            "[[ 12   0  68   3]\n",
            " [  2   0   9   0]\n",
            " [ 17   0 217   1]\n",
            " [ 12   0   5   0]]\n"
          ]
        }
      ]
    },
    {
      "cell_type": "code",
      "source": [
        "clf_nn = MLPClassifier(random_state=0)\n",
        "clf_nn.fit(X_train, y_train)\n",
        "\n",
        "pred_nn = clf_nn.predict(X_test)\n",
        "\n",
        "print (\"\\n--- Neural Network Classifier ---\")\n",
        "print (accuracy_score(y_test, pred_nn))\n",
        "print (confusion_matrix(y_test, pred_nn))"
      ],
      "metadata": {
        "colab": {
          "base_uri": "https://localhost:8080/"
        },
        "id": "qz7vebyV0Mm7",
        "outputId": "22c486c5-d1c5-4295-ef9a-288c5877f8f0"
      },
      "execution_count": 57,
      "outputs": [
        {
          "output_type": "stream",
          "name": "stdout",
          "text": [
            "\n",
            "--- Neural Network Classifier ---\n",
            "0.9739884393063584\n",
            "[[ 78   0   5   0]\n",
            " [  1  10   0   0]\n",
            " [  0   0 235   0]\n",
            " [  3   0   0  14]]\n"
          ]
        }
      ]
    },
    {
      "cell_type": "code",
      "source": [
        "clf_dt = DecisionTreeClassifier(random_state=0)\n",
        "clf_dt.fit(X_train, y_train)\n",
        "\n",
        "pred_dt = clf_dt.predict(X_test)\n",
        "\n",
        "print (\"\\n--- Decision Tree Classifier ---\")\n",
        "print (accuracy_score(y_test, pred_dt))\n",
        "print (confusion_matrix(y_test, pred_dt))"
      ],
      "metadata": {
        "colab": {
          "base_uri": "https://localhost:8080/"
        },
        "id": "esLYatlc0QLT",
        "outputId": "02a94551-b4d8-4967-d34d-e1f6a292b5fd"
      },
      "execution_count": 58,
      "outputs": [
        {
          "output_type": "stream",
          "name": "stdout",
          "text": [
            "\n",
            "--- Decision Tree Classifier ---\n",
            "0.9682080924855492\n",
            "[[ 76   6   1   0]\n",
            " [  1  10   0   0]\n",
            " [  0   0 235   0]\n",
            " [  1   2   0  14]]\n"
          ]
        }
      ]
    },
    {
      "cell_type": "code",
      "source": [
        "from sklearn.ensemble import RandomForestClassifier\n",
        "from sklearn.metrics import accuracy_score\n",
        "import pandas as pd\n",
        "import warnings\n",
        "warnings.filterwarnings('ignore')\n",
        "\n",
        "print (\"\\n--- Radom Forest ---\")\n",
        "rf_clf = RandomForestClassifier(random_state=0)\n",
        "rf_clf.fit(X_train, y_train)\n",
        "pred = rf_clf.predict(X_test)\n",
        "print(accuracy_score(y_test,pred))\n",
        "print (confusion_matrix(y_test, pred))"
      ],
      "metadata": {
        "colab": {
          "base_uri": "https://localhost:8080/"
        },
        "id": "5RcO5Z_U0YK_",
        "outputId": "98fa41e7-dad1-4ad7-a062-b5215504faa7"
      },
      "execution_count": 59,
      "outputs": [
        {
          "output_type": "stream",
          "name": "stdout",
          "text": [
            "\n",
            "--- Radom Forest ---\n",
            "0.9739884393063584\n",
            "[[ 76   7   0   0]\n",
            " [  0  10   0   1]\n",
            " [  0   0 235   0]\n",
            " [  1   0   0  16]]\n"
          ]
        }
      ]
    },
    {
      "cell_type": "code",
      "source": [],
      "metadata": {
        "id": "Ztb-VtTJ0aar"
      },
      "execution_count": 59,
      "outputs": []
    }
  ]
}