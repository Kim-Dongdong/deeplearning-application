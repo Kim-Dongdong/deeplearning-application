{
  "nbformat": 4,
  "nbformat_minor": 0,
  "metadata": {
    "colab": {
      "provenance": []
    },
    "kernelspec": {
      "name": "python3",
      "display_name": "Python 3"
    },
    "language_info": {
      "name": "python"
    }
  },
  "cells": [
    {
      "cell_type": "markdown",
      "source": [
        "# 인공 신경망"
      ],
      "metadata": {
        "id": "A6yt22CgVu6V"
      }
    },
    {
      "cell_type": "code",
      "execution_count": 1,
      "metadata": {
        "id": "wCcudr5uU_h7"
      },
      "outputs": [],
      "source": [
        "# 실행마다 동일한 결과를 얻기 위해 케라스에 랜덤 시드를 사용하고 텐서플로 연산을 결정적으로 만든다\n",
        "import tensorflow as tf\n",
        "\n",
        "tf.keras.utils.set_random_seed(42)\n",
        "tf.config.experimental.enable_op_determinism()"
      ]
    },
    {
      "cell_type": "markdown",
      "source": [
        "### 패션 MINST"
      ],
      "metadata": {
        "id": "_9wSabeGXCvO"
      }
    },
    {
      "cell_type": "code",
      "source": [
        "from tensorflow import keras\n",
        "\n",
        "(train_input, train_target), (test_input, test_target) = keras.datasets.fashion_mnist.load_data()"
      ],
      "metadata": {
        "colab": {
          "base_uri": "https://localhost:8080/"
        },
        "id": "ft3kaEedW_54",
        "outputId": "92077d4f-1dfd-4812-c6a3-0c02dc57384a"
      },
      "execution_count": 2,
      "outputs": [
        {
          "output_type": "stream",
          "name": "stdout",
          "text": [
            "Downloading data from https://storage.googleapis.com/tensorflow/tf-keras-datasets/train-labels-idx1-ubyte.gz\n",
            "\u001b[1m29515/29515\u001b[0m \u001b[32m━━━━━━━━━━━━━━━━━━━━\u001b[0m\u001b[37m\u001b[0m \u001b[1m0s\u001b[0m 0us/step\n",
            "Downloading data from https://storage.googleapis.com/tensorflow/tf-keras-datasets/train-images-idx3-ubyte.gz\n",
            "\u001b[1m26421880/26421880\u001b[0m \u001b[32m━━━━━━━━━━━━━━━━━━━━\u001b[0m\u001b[37m\u001b[0m \u001b[1m0s\u001b[0m 0us/step\n",
            "Downloading data from https://storage.googleapis.com/tensorflow/tf-keras-datasets/t10k-labels-idx1-ubyte.gz\n",
            "\u001b[1m5148/5148\u001b[0m \u001b[32m━━━━━━━━━━━━━━━━━━━━\u001b[0m\u001b[37m\u001b[0m \u001b[1m0s\u001b[0m 0us/step\n",
            "Downloading data from https://storage.googleapis.com/tensorflow/tf-keras-datasets/t10k-images-idx3-ubyte.gz\n",
            "\u001b[1m4422102/4422102\u001b[0m \u001b[32m━━━━━━━━━━━━━━━━━━━━\u001b[0m\u001b[37m\u001b[0m \u001b[1m0s\u001b[0m 0us/step\n"
          ]
        }
      ]
    },
    {
      "cell_type": "markdown",
      "source": [
        "## 인공 신경망으로 모델 만들기"
      ],
      "metadata": {
        "id": "2dFq71ueXUs0"
      }
    },
    {
      "cell_type": "code",
      "source": [
        "# 각 샘플을 1차원 배열로 재배열\n",
        "# 픽셀은 0~255 사이의 정수값을 가짐 -> 255로 나누어 0~1 사이의 값으로 정규화하는것이 보통임\n",
        "train_scaled = train_input / 255.0\n",
        "train_scaled = train_scaled.reshape(-1, 28*28)\n",
        "\n",
        "print(train_scaled.shape)\n",
        "# 784개의 픽셀로 이루어진 60000개의 샘플"
      ],
      "metadata": {
        "colab": {
          "base_uri": "https://localhost:8080/"
        },
        "id": "7qPQXlPSXuUS",
        "outputId": "9d8e81a9-5a64-45fd-a450-13d023986c30"
      },
      "execution_count": 4,
      "outputs": [
        {
          "output_type": "stream",
          "name": "stdout",
          "text": [
            "(60000, 784)\n"
          ]
        }
      ]
    },
    {
      "cell_type": "code",
      "source": [
        "from sklearn.model_selection import train_test_split\n",
        "\n",
        "# train, test 데이터 분할\n",
        "train_scaled, val_scaled, train_target, val_target = train_test_split(\n",
        "    train_scaled, train_target, test_size=0.2, random_state=42)"
      ],
      "metadata": {
        "id": "pcw7C7HIXFd9"
      },
      "execution_count": 5,
      "outputs": []
    },
    {
      "cell_type": "code",
      "source": [
        "print(train_scaled.shape, train_target.shape)\n",
        "print(val_scaled.shape, val_target.shape)"
      ],
      "metadata": {
        "colab": {
          "base_uri": "https://localhost:8080/"
        },
        "id": "LYqPueE5XhUE",
        "outputId": "3258d2bb-cd9e-46b2-c620-05352e67a3d1"
      },
      "execution_count": 6,
      "outputs": [
        {
          "output_type": "stream",
          "name": "stdout",
          "text": [
            "(48000, 784) (48000,)\n",
            "(12000, 784) (12000,)\n"
          ]
        }
      ]
    },
    {
      "cell_type": "markdown",
      "source": [
        "- 10개의 패션 아이템을 분류하기 위해 10개의 뉴런으로 분류된다.\n",
        "- z1 ~ z10"
      ],
      "metadata": {
        "id": "Bh7BN5ncY_E9"
      }
    },
    {
      "cell_type": "markdown",
      "source": [
        "### 밀집층 - 완전 연결층\n",
        "- 784개의 모든 픽셀과 오른쪽의 뉴런이 모두 연결된 상태\n"
      ],
      "metadata": {
        "id": "XNlg3ebQZeto"
      }
    },
    {
      "cell_type": "code",
      "source": [
        "from keras.layers import Input, Dense\n",
        "\n",
        "# 10개의 뉴런 지정\n",
        "# 다중 분류를 위해 softmax 함수 사용\n",
        "# input_shape 지정\n",
        "dense = keras.layers.Dense(10, activation='softmax', input_shape=(784,))"
      ],
      "metadata": {
        "id": "e829hLrrYlDX"
      },
      "execution_count": 11,
      "outputs": []
    },
    {
      "cell_type": "code",
      "source": [
        "# 위에서 만든 밀집층을 가진 신경망 모델을 만들기 위해 Sequential 클래스를 이용해 model을 생성한다.\n",
        "# Sequential 클래스의 매개변수에 dense를 전달\n",
        "model = keras.Sequential([dense])\n",
        "\n",
        "# 여기서 만든 model 객체가 바로 신경망 모델이다.\n",
        "# 절편이 뉴런마다 더해진다는것이 중요"
      ],
      "metadata": {
        "id": "56F7N14uZoP3"
      },
      "execution_count": 13,
      "outputs": []
    },
    {
      "cell_type": "markdown",
      "source": [
        "- 소프트맥스와 같이 뉴런의 선형 방정식 계산 결과에 적용되는 함수를 활성화 함수라고 한다."
      ],
      "metadata": {
        "id": "QrBayQmybHZ1"
      }
    },
    {
      "cell_type": "markdown",
      "source": [
        "## 인공 신경망으로 패션 아이템 분류하기\n",
        "- 손실 함수의 종류 지정하기\n",
        "  - 이진 분류: binary_crossentropy\n",
        "  - 다중 분류: categorical_crossentropy\n",
        "- spars라는 단어가 붙은 이유\n",
        "  - 하나의 뉴런으로 양성과 음성 클래스에 대한 크로스 엔트로피 손실을 모두 계산하기 위해\n",
        "   "
      ],
      "metadata": {
        "id": "UDYEY8QRbRZH"
      }
    },
    {
      "cell_type": "code",
      "source": [
        "# 훈련하기 전 compile 함수로 설정단계 진행\n",
        "# 손실 함수를 지정하고, metrics를 지정한다.\n",
        "model.compile(loss='sparse_categorical_crossentropy', metrics=['accuracy'])"
      ],
      "metadata": {
        "id": "KBqnug7mZ8Wv"
      },
      "execution_count": 15,
      "outputs": []
    },
    {
      "cell_type": "markdown",
      "source": [
        "### 원-핫 인코딩\n",
        "- 다중 분류에서 크로스 엔트로피 손실 함수를 사용하려면 정수로 된 타깃값을 원-핫 인코딩으로 변환해야된다.\n",
        "- 손실을 낮추려면 활성화 뉴런의 값을 가능한 1에 가깝게 만들어야함 -> 다른 타겟들과의 연관관계를 제거해야한다.\n",
        "  - 그러나 sparse_categorical_crossentropy는 정수값 사용 가능\n",
        "- 티셔츠 샘플의 타깃은 정숫값 0 -> 1000000000\n",
        "- 바지 샘플의 타깃은 정숫값 1 -> 0100000000"
      ],
      "metadata": {
        "id": "Hmqkg9J6cTOt"
      }
    },
    {
      "cell_type": "markdown",
      "source": [
        "### metrics\n",
        "- keras는 모델이 훈련할 때 기본적으로 에포크마다 손실 값을 출력해준다.\n",
        "- 이 때 정확도도 함께 출력을 하기 위해서 'accuracy'를 지정한것이다."
      ],
      "metadata": {
        "id": "KCHYK-P-cy14"
      }
    },
    {
      "cell_type": "code",
      "source": [
        "# 모델 훈련\n",
        "# epoches: 반복횟수\n",
        "model.fit(train_scaled, train_target, epochs=5)"
      ],
      "metadata": {
        "colab": {
          "base_uri": "https://localhost:8080/"
        },
        "id": "oWO5nMW9cmMR",
        "outputId": "0c1a354c-3745-4ee4-c7c4-52d2ba1d3dbc"
      },
      "execution_count": 17,
      "outputs": [
        {
          "output_type": "stream",
          "name": "stdout",
          "text": [
            "Epoch 1/5\n",
            "\u001b[1m1500/1500\u001b[0m \u001b[32m━━━━━━━━━━━━━━━━━━━━\u001b[0m\u001b[37m\u001b[0m \u001b[1m4s\u001b[0m 2ms/step - accuracy: 0.7335 - loss: 0.7930\n",
            "Epoch 2/5\n",
            "\u001b[1m1500/1500\u001b[0m \u001b[32m━━━━━━━━━━━━━━━━━━━━\u001b[0m\u001b[37m\u001b[0m \u001b[1m3s\u001b[0m 2ms/step - accuracy: 0.8338 - loss: 0.4857\n",
            "Epoch 3/5\n",
            "\u001b[1m1500/1500\u001b[0m \u001b[32m━━━━━━━━━━━━━━━━━━━━\u001b[0m\u001b[37m\u001b[0m \u001b[1m5s\u001b[0m 2ms/step - accuracy: 0.8446 - loss: 0.4569\n",
            "Epoch 4/5\n",
            "\u001b[1m1500/1500\u001b[0m \u001b[32m━━━━━━━━━━━━━━━━━━━━\u001b[0m\u001b[37m\u001b[0m \u001b[1m3s\u001b[0m 2ms/step - accuracy: 0.8503 - loss: 0.4427\n",
            "Epoch 5/5\n",
            "\u001b[1m1500/1500\u001b[0m \u001b[32m━━━━━━━━━━━━━━━━━━━━\u001b[0m\u001b[37m\u001b[0m \u001b[1m3s\u001b[0m 2ms/step - accuracy: 0.8534 - loss: 0.4339\n"
          ]
        },
        {
          "output_type": "execute_result",
          "data": {
            "text/plain": [
              "<keras.src.callbacks.history.History at 0x7fd60eea67d0>"
            ]
          },
          "metadata": {},
          "execution_count": 17
        }
      ]
    },
    {
      "cell_type": "markdown",
      "source": [
        "- 에포크마다 걸린 시간과 손실, 정확도를 출력해준다."
      ],
      "metadata": {
        "id": "lFePJSViffpf"
      }
    },
    {
      "cell_type": "code",
      "source": [
        "# 검증 세트를 통해 모델의 성능 확인\n",
        "model.evaluate(val_scaled, val_target)"
      ],
      "metadata": {
        "colab": {
          "base_uri": "https://localhost:8080/"
        },
        "id": "23fql0shdBHx",
        "outputId": "0cc9b303-1bd7-4ed7-b225-428efe478ef2"
      },
      "execution_count": 19,
      "outputs": [
        {
          "output_type": "stream",
          "name": "stdout",
          "text": [
            "\u001b[1m375/375\u001b[0m \u001b[32m━━━━━━━━━━━━━━━━━━━━\u001b[0m\u001b[37m\u001b[0m \u001b[1m1s\u001b[0m 2ms/step - accuracy: 0.8465 - loss: 0.4372\n"
          ]
        },
        {
          "output_type": "execute_result",
          "data": {
            "text/plain": [
              "[0.4451083540916443, 0.847000002861023]"
            ]
          },
          "metadata": {},
          "execution_count": 19
        }
      ]
    },
    {
      "cell_type": "code",
      "source": [],
      "metadata": {
        "id": "uQ-6ElEQgCHe"
      },
      "execution_count": null,
      "outputs": []
    }
  ]
}