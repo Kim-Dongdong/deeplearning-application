{
 "cells": [
  {
   "cell_type": "markdown",
   "id": "a69623f1-4030-47d3-a720-fedb0cf6d6a4",
   "metadata": {},
   "source": [
    "1. CSV 파일 로컬에서 불러오기"
   ]
  },
  {
   "cell_type": "code",
   "execution_count": 1,
   "id": "01dc1e03-79b1-4dae-a3df-b630bf0b32f8",
   "metadata": {},
   "outputs": [
    {
     "name": "stdout",
     "output_type": "stream",
     "text": [
      "     SepalLength  SepalWidth  PetalLength  PetalWidth            Name\n",
      "0            5.1         3.5          1.4         0.2     Iris-setosa\n",
      "1            4.9         3.0          1.4         0.2     Iris-setosa\n",
      "2            4.7         3.2          1.3         0.2     Iris-setosa\n",
      "3            4.6         3.1          1.5         0.2     Iris-setosa\n",
      "4            5.0         3.6          1.4         0.2     Iris-setosa\n",
      "..           ...         ...          ...         ...             ...\n",
      "145          6.7         3.0          5.2         2.3  Iris-virginica\n",
      "146          6.3         2.5          5.0         1.9  Iris-virginica\n",
      "147          6.5         3.0          5.2         2.0  Iris-virginica\n",
      "148          6.2         3.4          5.4         2.3  Iris-virginica\n",
      "149          5.9         3.0          5.1         1.8  Iris-virginica\n",
      "\n",
      "[150 rows x 5 columns]\n"
     ]
    }
   ],
   "source": [
    "import pandas as pd\n",
    "\n",
    "# 로컬 CSV 파일 읽기\n",
    "file_path = \"C:/Users/Admin/Desktop/3-1/인공지능개론/week2/iris.csv\" \n",
    "df = pd.read_csv(file_path)\n",
    "\n",
    "df.head(), df.columns\n",
    "\n",
    "print(df)"
   ]
  },
  {
   "cell_type": "markdown",
   "id": "f2a8399b-fc1f-4a2c-b982-f2408c89e8a8",
   "metadata": {},
   "source": [
    "2. CSV파일 온라인에서 불러오기"
   ]
  },
  {
   "cell_type": "code",
   "execution_count": 3,
   "id": "696ec57c-a78e-4148-8f83-c173958544cd",
   "metadata": {},
   "outputs": [
    {
     "name": "stdout",
     "output_type": "stream",
     "text": [
      "      battery_power  blue  clock_speed  dual_sim  fc  four_g  int_memory  \\\n",
      "0               842     0          2.2         0   1       0           7   \n",
      "1              1021     1          0.5         1   0       1          53   \n",
      "2               563     1          0.5         1   2       1          41   \n",
      "3               615     1          2.5         0   0       0          10   \n",
      "4              1821     1          1.2         0  13       1          44   \n",
      "...             ...   ...          ...       ...  ..     ...         ...   \n",
      "1995            794     1          0.5         1   0       1           2   \n",
      "1996           1965     1          2.6         1   0       0          39   \n",
      "1997           1911     0          0.9         1   1       1          36   \n",
      "1998           1512     0          0.9         0   4       1          46   \n",
      "1999            510     1          2.0         1   5       1          45   \n",
      "\n",
      "      m_dep  mobile_wt  n_cores  ...  px_height  px_width   ram  sc_h  sc_w  \\\n",
      "0       0.6        188        2  ...         20       756  2549     9     7   \n",
      "1       0.7        136        3  ...        905      1988  2631    17     3   \n",
      "2       0.9        145        5  ...       1263      1716  2603    11     2   \n",
      "3       0.8        131        6  ...       1216      1786  2769    16     8   \n",
      "4       0.6        141        2  ...       1208      1212  1411     8     2   \n",
      "...     ...        ...      ...  ...        ...       ...   ...   ...   ...   \n",
      "1995    0.8        106        6  ...       1222      1890   668    13     4   \n",
      "1996    0.2        187        4  ...        915      1965  2032    11    10   \n",
      "1997    0.7        108        8  ...        868      1632  3057     9     1   \n",
      "1998    0.1        145        5  ...        336       670   869    18    10   \n",
      "1999    0.9        168        6  ...        483       754  3919    19     4   \n",
      "\n",
      "      talk_time  three_g  touch_screen  wifi  price_range  \n",
      "0            19        0             0     1            1  \n",
      "1             7        1             1     0            2  \n",
      "2             9        1             1     0            2  \n",
      "3            11        1             0     0            2  \n",
      "4            15        1             1     0            1  \n",
      "...         ...      ...           ...   ...          ...  \n",
      "1995         19        1             1     0            0  \n",
      "1996         16        1             1     1            2  \n",
      "1997          5        1             1     0            3  \n",
      "1998         19        1             1     1            0  \n",
      "1999          2        1             1     1            3  \n",
      "\n",
      "[2000 rows x 21 columns]\n"
     ]
    }
   ],
   "source": [
    "import pandas as pd\n",
    "\n",
    "url = \"https://raw.githubusercontent.com/MyungKyuYi/AI-class/main/mobile.csv\"\n",
    "\n",
    "df = pd.read_csv(url)\n",
    "\n",
    "df.head(), df.columns\n",
    "\n",
    "print(df)"
   ]
  },
  {
   "cell_type": "markdown",
   "id": "ad39c184-9025-4943-a512-d8658d8e2881",
   "metadata": {},
   "source": [
    "3. 엑셀 파일 로컬에서 불러오기"
   ]
  },
  {
   "cell_type": "code",
   "execution_count": 25,
   "id": "0f1033ac-92a6-4d17-b02d-5f750caed9f6",
   "metadata": {},
   "outputs": [
    {
     "name": "stdout",
     "output_type": "stream",
     "text": [
      "엑셀 파일:\n",
      "     Num.  subject_ID Sex(M/F)  Age(year)  Height(cm)  Weight(kg)  \\\n",
      "0       1           2   Female         45         152          63   \n",
      "1       1           2   Female         45         152          63   \n",
      "2       1           2   Female         45         152          63   \n",
      "3       2           3   Female         50         157          50   \n",
      "4       2           3   Female         50         157          50   \n",
      "..    ...         ...      ...        ...         ...         ...   \n",
      "652   218         418     Male         25         173          63   \n",
      "653   218         418     Male         25         173          63   \n",
      "654   219         419     Male         24         175          58   \n",
      "655   219         419     Male         24         175          58   \n",
      "656   219         419     Male         24         175          58   \n",
      "\n",
      "     Systolic Blood Pressure(mmHg)  Diastolic Blood Pressure(mmHg)  \\\n",
      "0                              161                              89   \n",
      "1                              161                              89   \n",
      "2                              161                              89   \n",
      "3                              160                              93   \n",
      "4                              160                              93   \n",
      "..                             ...                             ...   \n",
      "652                            106                              69   \n",
      "653                            106                              69   \n",
      "654                            108                              68   \n",
      "655                            108                              68   \n",
      "656                            108                              68   \n",
      "\n",
      "     Heart Rate(b/m)  BMI(kg/m^2)  ...  2091  2092  2093  2094  2095  2096  \\\n",
      "0                 97    27.268006  ...  1766  1766  1766  1833  1833  1827   \n",
      "1                 97    27.268006  ...  1985  1985  2026  2026  2026  1977   \n",
      "2                 97    27.268006  ...  1942  1900  1900  1938  1938  1938   \n",
      "3                 76    20.284799  ...  2073  2072  2072  2072  2051  2051   \n",
      "4                 76    20.284799  ...  2021  2010  2010  2010  2001  2001   \n",
      "..               ...          ...  ...   ...   ...   ...   ...   ...   ...   \n",
      "652               67    21.049818  ...  2702  2671  2679  2675  2695  2703   \n",
      "653               67    21.049818  ...  2391  2362  2378  2363  2323  2355   \n",
      "654               65    18.938776  ...  2399  2463  2415  2406  2407  2447   \n",
      "655               65    18.938776  ...  3075  3091  3067  3051  3121  3135   \n",
      "656               65    18.938776  ...  2623  2627  2674  2670  2662  2647   \n",
      "\n",
      "     2097  2098  2099  2100  \n",
      "0    1827  1827  1754  1754  \n",
      "1    1977  1997  1997  1997  \n",
      "2    1924  1924  1929  1929  \n",
      "3    2036  2036  2036  2045  \n",
      "4    2003  2003  2003  1989  \n",
      "..    ...   ...   ...   ...  \n",
      "652  2667  2662  2687  2635  \n",
      "653  2355  2395  2362  2367  \n",
      "654  2435  2422  2451  2379  \n",
      "655  3091  3103  3146  3151  \n",
      "656  2631  2611  2639  2623  \n",
      "\n",
      "[657 rows x 2114 columns]\n",
      "\n",
      "CSV로 변환:\n",
      "     Num.  subject_ID Sex(M/F)  Age(year)  Height(cm)  Weight(kg)  \\\n",
      "0       1           2   Female         45         152          63   \n",
      "1       1           2   Female         45         152          63   \n",
      "2       1           2   Female         45         152          63   \n",
      "3       2           3   Female         50         157          50   \n",
      "4       2           3   Female         50         157          50   \n",
      "..    ...         ...      ...        ...         ...         ...   \n",
      "652   218         418     Male         25         173          63   \n",
      "653   218         418     Male         25         173          63   \n",
      "654   219         419     Male         24         175          58   \n",
      "655   219         419     Male         24         175          58   \n",
      "656   219         419     Male         24         175          58   \n",
      "\n",
      "     Systolic Blood Pressure(mmHg)  Diastolic Blood Pressure(mmHg)  \\\n",
      "0                              161                              89   \n",
      "1                              161                              89   \n",
      "2                              161                              89   \n",
      "3                              160                              93   \n",
      "4                              160                              93   \n",
      "..                             ...                             ...   \n",
      "652                            106                              69   \n",
      "653                            106                              69   \n",
      "654                            108                              68   \n",
      "655                            108                              68   \n",
      "656                            108                              68   \n",
      "\n",
      "     Heart Rate(b/m)  BMI(kg/m^2)  ...  2091  2092  2093  2094  2095  2096  \\\n",
      "0                 97    27.268006  ...  1766  1766  1766  1833  1833  1827   \n",
      "1                 97    27.268006  ...  1985  1985  2026  2026  2026  1977   \n",
      "2                 97    27.268006  ...  1942  1900  1900  1938  1938  1938   \n",
      "3                 76    20.284799  ...  2073  2072  2072  2072  2051  2051   \n",
      "4                 76    20.284799  ...  2021  2010  2010  2010  2001  2001   \n",
      "..               ...          ...  ...   ...   ...   ...   ...   ...   ...   \n",
      "652               67    21.049818  ...  2702  2671  2679  2675  2695  2703   \n",
      "653               67    21.049818  ...  2391  2362  2378  2363  2323  2355   \n",
      "654               65    18.938776  ...  2399  2463  2415  2406  2407  2447   \n",
      "655               65    18.938776  ...  3075  3091  3067  3051  3121  3135   \n",
      "656               65    18.938776  ...  2623  2627  2674  2670  2662  2647   \n",
      "\n",
      "     2097  2098  2099  2100  \n",
      "0    1827  1827  1754  1754  \n",
      "1    1977  1997  1997  1997  \n",
      "2    1924  1924  1929  1929  \n",
      "3    2036  2036  2036  2045  \n",
      "4    2003  2003  2003  1989  \n",
      "..    ...   ...   ...   ...  \n",
      "652  2667  2662  2687  2635  \n",
      "653  2355  2395  2362  2367  \n",
      "654  2435  2422  2451  2379  \n",
      "655  3091  3103  3146  3151  \n",
      "656  2631  2611  2639  2623  \n",
      "\n",
      "[657 rows x 2114 columns]\n"
     ]
    }
   ],
   "source": [
    "import pandas as pd\n",
    "\n",
    "# 엑셀 파일 변환\n",
    "df = pd.read_excel('C:/Users/Admin/Desktop/3-1/인공지능개론/week2/combined_dataset-1.xlsx', dtype={'컬럼명': str})\n",
    "\n",
    "print(\"엑셀 파일:\")\n",
    "print(df)\n",
    "\n",
    "df.to_csv('combined.csv', index=False) \n",
    "df_csv = pd.read_csv('combined.csv', low_memory=False)\n",
    "\n",
    "print(\"\\nCSV로 변환:\")\n",
    "\n",
    "print(df_csv)\n"
   ]
  },
  {
   "cell_type": "markdown",
   "id": "94493adc-dcf1-4aba-a517-e81941ffe37c",
   "metadata": {},
   "source": [
    "4. 엑셀 파일 온라인에서 불러오기"
   ]
  },
  {
   "cell_type": "code",
   "execution_count": 7,
   "id": "c57bf1e9-b212-41eb-a4f4-8faba9d65df5",
   "metadata": {},
   "outputs": [
    {
     "name": "stdout",
     "output_type": "stream",
     "text": [
      "\n",
      "bDataFrame:\n",
      "     Num.  subject_ID Sex(M/F)  Age(year)  Height(cm)  Weight(kg)  \\\n",
      "0       1           2   Female         45         152          63   \n",
      "1       1           2   Female         45         152          63   \n",
      "2       1           2   Female         45         152          63   \n",
      "3       2           3   Female         50         157          50   \n",
      "4       2           3   Female         50         157          50   \n",
      "..    ...         ...      ...        ...         ...         ...   \n",
      "652   218         418     Male         25         173          63   \n",
      "653   218         418     Male         25         173          63   \n",
      "654   219         419     Male         24         175          58   \n",
      "655   219         419     Male         24         175          58   \n",
      "656   219         419     Male         24         175          58   \n",
      "\n",
      "     Systolic Blood Pressure(mmHg)  Diastolic Blood Pressure(mmHg)  \\\n",
      "0                              161                              89   \n",
      "1                              161                              89   \n",
      "2                              161                              89   \n",
      "3                              160                              93   \n",
      "4                              160                              93   \n",
      "..                             ...                             ...   \n",
      "652                            106                              69   \n",
      "653                            106                              69   \n",
      "654                            108                              68   \n",
      "655                            108                              68   \n",
      "656                            108                              68   \n",
      "\n",
      "     Heart Rate(b/m)  BMI(kg/m^2)  ...  2091  2092  2093  2094  2095  2096  \\\n",
      "0                 97    27.268006  ...  1766  1766  1766  1833  1833  1827   \n",
      "1                 97    27.268006  ...  1985  1985  2026  2026  2026  1977   \n",
      "2                 97    27.268006  ...  1942  1900  1900  1938  1938  1938   \n",
      "3                 76    20.284799  ...  2073  2072  2072  2072  2051  2051   \n",
      "4                 76    20.284799  ...  2021  2010  2010  2010  2001  2001   \n",
      "..               ...          ...  ...   ...   ...   ...   ...   ...   ...   \n",
      "652               67    21.049818  ...  2702  2671  2679  2675  2695  2703   \n",
      "653               67    21.049818  ...  2391  2362  2378  2363  2323  2355   \n",
      "654               65    18.938776  ...  2399  2463  2415  2406  2407  2447   \n",
      "655               65    18.938776  ...  3075  3091  3067  3051  3121  3135   \n",
      "656               65    18.938776  ...  2623  2627  2674  2670  2662  2647   \n",
      "\n",
      "     2097  2098  2099  2100  \n",
      "0    1827  1827  1754  1754  \n",
      "1    1977  1997  1997  1997  \n",
      "2    1924  1924  1929  1929  \n",
      "3    2036  2036  2036  2045  \n",
      "4    2003  2003  2003  1989  \n",
      "..    ...   ...   ...   ...  \n",
      "652  2667  2662  2687  2635  \n",
      "653  2355  2395  2362  2367  \n",
      "654  2435  2422  2451  2379  \n",
      "655  3091  3103  3146  3151  \n",
      "656  2631  2611  2639  2623  \n",
      "\n",
      "[657 rows x 2114 columns]\n"
     ]
    }
   ],
   "source": [
    "import pandas as pd\n",
    "\n",
    "# 엑셀 파일 변환\n",
    "url = 'https://raw.githubusercontent.com/MyungKyuYi/AI-class/main/combined_dataset-1.xlsx'\n",
    "\n",
    "df = pd.read_excel(url)\n",
    "\n",
    "print(\"\\nbDataFrame:\")\n",
    "\n",
    "print(df)"
   ]
  },
  {
   "cell_type": "markdown",
   "id": "d11f8e99-03ac-45bd-b5f0-4736eb63be92",
   "metadata": {},
   "source": [
    "5. Diabates 자료를 통해 KNN 알고리즘 적용"
   ]
  },
  {
   "cell_type": "code",
   "execution_count": 9,
   "id": "6acd5488-8771-47e0-bd35-dfe98eaca3a6",
   "metadata": {},
   "outputs": [
    {
     "name": "stdout",
     "output_type": "stream",
     "text": [
      "     Pregnancies  Glucose  BloodPressure  SkinThickness  Insulin   BMI  \\\n",
      "0              6      148             72             35        0  33.6   \n",
      "1              1       85             66             29        0  26.6   \n",
      "2              8      183             64              0        0  23.3   \n",
      "3              1       89             66             23       94  28.1   \n",
      "4              0      137             40             35      168  43.1   \n",
      "..           ...      ...            ...            ...      ...   ...   \n",
      "763           10      101             76             48      180  32.9   \n",
      "764            2      122             70             27        0  36.8   \n",
      "765            5      121             72             23      112  26.2   \n",
      "766            1      126             60              0        0  30.1   \n",
      "767            1       93             70             31        0  30.4   \n",
      "\n",
      "     DiabetesPedigreeFunction  Age  Outcome  \n",
      "0                       0.627   50        1  \n",
      "1                       0.351   31        0  \n",
      "2                       0.672   32        1  \n",
      "3                       0.167   21        0  \n",
      "4                       2.288   33        1  \n",
      "..                        ...  ...      ...  \n",
      "763                     0.171   63        0  \n",
      "764                     0.340   27        0  \n",
      "765                     0.245   30        0  \n",
      "766                     0.349   47        1  \n",
      "767                     0.315   23        0  \n",
      "\n",
      "[768 rows x 9 columns]\n",
      "KNN 모델의 평균 제곱 오차: 0.22\n"
     ]
    }
   ],
   "source": [
    "import pandas as pd\n",
    "from sklearn.model_selection import train_test_split\n",
    "from sklearn.neighbors import KNeighborsRegressor\n",
    "from sklearn.metrics import mean_squared_error\n",
    "\n",
    "url = \"https://raw.githubusercontent.com/MyungKyuYi/AI-class/refs/heads/main/diabetes.csv\"\n",
    "\n",
    "df = pd.read_csv(url)\n",
    "\n",
    "df.head(), df.columns\n",
    "\n",
    "print(df)\n",
    "\n",
    "X = df.drop('Outcome', axis=1)\n",
    "y = df[\"Outcome\"]\n",
    "\n",
    "X_train, X_test, y_train, y_test = train_test_split(X, y, test_size=0.2, random_state=42)\n",
    "\n",
    "# KNN 알고리즘 적용\n",
    "model = KNeighborsRegressor()\n",
    "model_name = \"KNN\"\n",
    "    \n",
    "# 훈련\n",
    "model.fit(X_train, y_train)\n",
    "\n",
    "# 훈련된 데이터를 가지고 test 데이터를 predict\n",
    "y_pred = model.predict(X_test)\n",
    "\n",
    "# 정답과 test 결과값(y_pred) 비교\n",
    "mse = mean_squared_error(y_test, y_pred)\n",
    "\n",
    "print(f\"{model_name} 모델의 평균 제곱 오차: {mse:.2f}\")"
   ]
  },
  {
   "cell_type": "markdown",
   "id": "a62202ec-8b2a-4fdc-bd85-6cc672c1bdd0",
   "metadata": {},
   "source": [
    "6. Diabates 자료를 통해 KNN 알고리즘 적용 및 실제값과 예측값 비교"
   ]
  },
  {
   "cell_type": "code",
   "execution_count": 11,
   "id": "e8bdf47d-abf9-4624-b011-6c19099c4773",
   "metadata": {
    "scrolled": true
   },
   "outputs": [
    {
     "name": "stdout",
     "output_type": "stream",
     "text": [
      "     Pregnancies  Glucose  BloodPressure  SkinThickness  Insulin   BMI  \\\n",
      "0              6      148             72             35        0  33.6   \n",
      "1              1       85             66             29        0  26.6   \n",
      "2              8      183             64              0        0  23.3   \n",
      "3              1       89             66             23       94  28.1   \n",
      "4              0      137             40             35      168  43.1   \n",
      "..           ...      ...            ...            ...      ...   ...   \n",
      "763           10      101             76             48      180  32.9   \n",
      "764            2      122             70             27        0  36.8   \n",
      "765            5      121             72             23      112  26.2   \n",
      "766            1      126             60              0        0  30.1   \n",
      "767            1       93             70             31        0  30.4   \n",
      "\n",
      "     DiabetesPedigreeFunction  Age  Outcome  \n",
      "0                       0.627   50        1  \n",
      "1                       0.351   31        0  \n",
      "2                       0.672   32        1  \n",
      "3                       0.167   21        0  \n",
      "4                       2.288   33        1  \n",
      "..                        ...  ...      ...  \n",
      "763                     0.171   63        0  \n",
      "764                     0.340   27        0  \n",
      "765                     0.245   30        0  \n",
      "766                     0.349   47        1  \n",
      "767                     0.315   23        0  \n",
      "\n",
      "[768 rows x 9 columns]\n",
      "KNN 모델의 평균 제곱 오차: 0.22\n",
      "실제 값  | 예측 값\n",
      "--------------------------------------------------\n",
      "   1    |  0.20  \n",
      "   0    |  1.00  \n",
      "   1    |  0.20  \n",
      "   0    |  0.00  \n",
      "   0    |  0.00  \n",
      "   1    |  0.80  \n",
      "   0    |  0.20  \n",
      "   0    |  0.00  \n",
      "   1    |  1.00  \n",
      "   1    |  0.40  \n"
     ]
    }
   ],
   "source": [
    "import pandas as pd\n",
    "from sklearn.model_selection import train_test_split\n",
    "from sklearn.neighbors import KNeighborsRegressor\n",
    "from sklearn.metrics import mean_squared_error\n",
    "\n",
    "url = \"https://raw.githubusercontent.com/MyungKyuYi/AI-class/refs/heads/main/diabetes.csv\"\n",
    "\n",
    "df = pd.read_csv(url)\n",
    "\n",
    "df.head(), df.columns\n",
    "\n",
    "print(df)\n",
    "\n",
    "X = df.drop('Outcome', axis=1)\n",
    "y = df[\"Outcome\"]\n",
    "\n",
    "X_train, X_test, y_train, y_test = train_test_split(X, y, test_size=0.2, random_state=42)\n",
    "\n",
    "model = KNeighborsRegressor()\n",
    "model_name = \"KNN\"\n",
    "    \n",
    "# 훈련\n",
    "model.fit(X_train, y_train)\n",
    "\n",
    "# 훈련된 데이터를 가지고 test 데이터를 predict\n",
    "y_pred = model.predict(X_test)\n",
    "\n",
    "# 정답과 test 결과값(y_pred) 비교\n",
    "mse = mean_squared_error(y_test, y_pred)\n",
    "\n",
    "print(f\"{model_name} 모델의 평균 제곱 오차: {mse:.2f}\")\n",
    "\n",
    "print(\"실제 값  | 예측 값\")\n",
    "print(\"-\" * 50)\n",
    "for actual, predicted in zip(y_test[10:20], y_pred[10:20]): \n",
    "    print(f\"{actual:^7} | {predicted:^7.2f}\")"
   ]
  },
  {
   "cell_type": "markdown",
   "id": "7beaf01f-c607-4a4d-b8b9-02d45009c6f6",
   "metadata": {},
   "source": [
    "7. 2주차 실습과제 (titanic 자료 실습)"
   ]
  },
  {
   "cell_type": "code",
   "execution_count": 5,
   "id": "6fce4aa2-232a-40d4-b5b2-cafa1e723581",
   "metadata": {},
   "outputs": [
    {
     "name": "stdout",
     "output_type": "stream",
     "text": [
      "     PassengerId  Survived  Pclass  \\\n",
      "0              1         0       3   \n",
      "1              2         1       1   \n",
      "2              3         1       3   \n",
      "3              4         1       1   \n",
      "4              5         0       3   \n",
      "..           ...       ...     ...   \n",
      "886          887         0       2   \n",
      "887          888         1       1   \n",
      "888          889         0       3   \n",
      "889          890         1       1   \n",
      "890          891         0       3   \n",
      "\n",
      "                                                  Name     Sex   Age  SibSp  \\\n",
      "0                              Braund, Mr. Owen Harris    male  22.0      1   \n",
      "1    Cumings, Mrs. John Bradley (Florence Briggs Th...  female  38.0      1   \n",
      "2                               Heikkinen, Miss. Laina  female  26.0      0   \n",
      "3         Futrelle, Mrs. Jacques Heath (Lily May Peel)  female  35.0      1   \n",
      "4                             Allen, Mr. William Henry    male  35.0      0   \n",
      "..                                                 ...     ...   ...    ...   \n",
      "886                              Montvila, Rev. Juozas    male  27.0      0   \n",
      "887                       Graham, Miss. Margaret Edith  female  19.0      0   \n",
      "888           Johnston, Miss. Catherine Helen \"Carrie\"  female   NaN      1   \n",
      "889                              Behr, Mr. Karl Howell    male  26.0      0   \n",
      "890                                Dooley, Mr. Patrick    male  32.0      0   \n",
      "\n",
      "     Parch            Ticket     Fare Cabin Embarked  \n",
      "0        0         A/5 21171   7.2500   NaN        S  \n",
      "1        0          PC 17599  71.2833   C85        C  \n",
      "2        0  STON/O2. 3101282   7.9250   NaN        S  \n",
      "3        0            113803  53.1000  C123        S  \n",
      "4        0            373450   8.0500   NaN        S  \n",
      "..     ...               ...      ...   ...      ...  \n",
      "886      0            211536  13.0000   NaN        S  \n",
      "887      0            112053  30.0000   B42        S  \n",
      "888      2        W./C. 6607  23.4500   NaN        S  \n",
      "889      0            111369  30.0000  C148        C  \n",
      "890      0            370376   7.7500   NaN        Q  \n",
      "\n",
      "[891 rows x 12 columns]\n"
     ]
    }
   ],
   "source": [
    "import pandas as pd\n",
    "import numpy as np\n",
    "import matplotlib.pyplot as plt\n",
    "from sklearn.model_selection import train_test_split\n",
    "from sklearn.linear_model import LinearRegression\n",
    "from sklearn.svm import SVR\n",
    "from sklearn.ensemble import RandomForestRegressor\n",
    "from sklearn.tree import DecisionTreeRegressor\n",
    "from sklearn.metrics import mean_squared_error\n",
    "from sklearn.neighbors import KNeighborsRegressor \n",
    "from sklearn.preprocessing import LabelEncoder\n",
    "from sklearn.metrics import accuracy_score, confusion_matrix\n",
    "import seaborn as sns\n",
    "\n",
    "# LabelEncoder 객체 생성\n",
    "encoder = LabelEncoder()\n",
    "\n",
    "# 1. 데이터 로딩\n",
    "file_path = \"https://raw.githubusercontent.com/MyungKyuYi/AI-class/refs/heads/main/titanic.csv\"\n",
    "df = pd.read_csv(file_path)\n",
    "\n",
    "print(df)"
   ]
  },
  {
   "cell_type": "code",
   "execution_count": 7,
   "id": "d2577a1a-2f26-4b96-a1a4-85c2f7986079",
   "metadata": {},
   "outputs": [
    {
     "name": "stdout",
     "output_type": "stream",
     "text": [
      "PassengerId      0\n",
      "Survived         0\n",
      "Pclass           0\n",
      "Name             0\n",
      "Sex              0\n",
      "Age            177\n",
      "SibSp            0\n",
      "Parch            0\n",
      "Ticket           0\n",
      "Fare             0\n",
      "Cabin          687\n",
      "Embarked         2\n",
      "dtype: int64\n"
     ]
    }
   ],
   "source": [
    "# 2. 결측치 확인\n",
    "print(df.isnull().sum())"
   ]
  },
  {
   "cell_type": "code",
   "execution_count": 8,
   "id": "ad76436e",
   "metadata": {},
   "outputs": [
    {
     "name": "stdout",
     "output_type": "stream",
     "text": [
      "     PassengerId  Survived  Pclass  \\\n",
      "1              2         1       1   \n",
      "3              4         1       1   \n",
      "6              7         0       1   \n",
      "10            11         1       3   \n",
      "11            12         1       1   \n",
      "..           ...       ...     ...   \n",
      "871          872         1       1   \n",
      "872          873         0       1   \n",
      "879          880         1       1   \n",
      "887          888         1       1   \n",
      "889          890         1       1   \n",
      "\n",
      "                                                  Name     Sex   Age  SibSp  \\\n",
      "1    Cumings, Mrs. John Bradley (Florence Briggs Th...  female  38.0      1   \n",
      "3         Futrelle, Mrs. Jacques Heath (Lily May Peel)  female  35.0      1   \n",
      "6                              McCarthy, Mr. Timothy J    male  54.0      0   \n",
      "10                     Sandstrom, Miss. Marguerite Rut  female   4.0      1   \n",
      "11                            Bonnell, Miss. Elizabeth  female  58.0      0   \n",
      "..                                                 ...     ...   ...    ...   \n",
      "871   Beckwith, Mrs. Richard Leonard (Sallie Monypeny)  female  47.0      1   \n",
      "872                           Carlsson, Mr. Frans Olof    male  33.0      0   \n",
      "879      Potter, Mrs. Thomas Jr (Lily Alexenia Wilson)  female  56.0      0   \n",
      "887                       Graham, Miss. Margaret Edith  female  19.0      0   \n",
      "889                              Behr, Mr. Karl Howell    male  26.0      0   \n",
      "\n",
      "     Parch    Ticket     Fare        Cabin Embarked  \n",
      "1        0  PC 17599  71.2833          C85        C  \n",
      "3        0    113803  53.1000         C123        S  \n",
      "6        0     17463  51.8625          E46        S  \n",
      "10       1   PP 9549  16.7000           G6        S  \n",
      "11       0    113783  26.5500         C103        S  \n",
      "..     ...       ...      ...          ...      ...  \n",
      "871      1     11751  52.5542          D35        S  \n",
      "872      0       695   5.0000  B51 B53 B55        S  \n",
      "879      1     11767  83.1583          C50        C  \n",
      "887      0    112053  30.0000          B42        S  \n",
      "889      0    111369  30.0000         C148        C  \n",
      "\n",
      "[202 rows x 12 columns]\n"
     ]
    }
   ],
   "source": [
    "# 3. 결측치 제거 (Age의 결측치는 평균나이로)\n",
    "df['Age'] = df['Age'].fillna(df['Age'].mean())\n",
    "df.dropna(inplace=True)\n",
    "print(df)"
   ]
  },
  {
   "cell_type": "code",
   "execution_count": 9,
   "id": "728dfb28",
   "metadata": {},
   "outputs": [
    {
     "data": {
      "text/plain": [
       "Text(0.5, 1.0, 'Label')"
      ]
     },
     "execution_count": 9,
     "metadata": {},
     "output_type": "execute_result"
    },
    {
     "data": {
      "image/png": "[encoded data removed]",
      "text/plain": [
       "<Figure size 432x288 with 1 Axes>"
      ]
     },
     "metadata": {
      "needs_background": "light"
     },
     "output_type": "display_data"
    }
   ],
   "source": [
    "# 3-1. 그래프 그려보기\n",
    "sns.countplot(data = df, x=\"Survived\")\n",
    "plt.xlabel(\"Survive or Not\")\n",
    "plt.ylabel(\"Count\")\n",
    "plt.title(\"Label\")"
   ]
  },
  {
   "cell_type": "code",
   "execution_count": 10,
   "id": "1db2775a",
   "metadata": {},
   "outputs": [
    {
     "name": "stdout",
     "output_type": "stream",
     "text": [
      "1    134\n",
      "0     68\n",
      "Name: Survived, dtype: int64\n",
      "1    0.663366\n",
      "0    0.336634\n",
      "Name: Survived, dtype: float64\n"
     ]
    }
   ],
   "source": [
    "# 4. 불균형 여부 확인 (생존자 확인)\n",
    "print(df['Survived'].value_counts())\n",
    "print(df['Survived'].value_counts(normalize=True))  # 비율"
   ]
  },
  {
   "cell_type": "code",
   "execution_count": 11,
   "id": "22baa67d",
   "metadata": {},
   "outputs": [
    {
     "name": "stdout",
     "output_type": "stream",
     "text": [
      "     PassengerId  Survived  Pclass     Sex   Age  SibSp  Parch     Fare  \\\n",
      "1              2         1       1  female  38.0      1      0  71.2833   \n",
      "3              4         1       1  female  35.0      1      0  53.1000   \n",
      "6              7         0       1    male  54.0      0      0  51.8625   \n",
      "10            11         1       3  female   4.0      1      1  16.7000   \n",
      "11            12         1       1  female  58.0      0      0  26.5500   \n",
      "..           ...       ...     ...     ...   ...    ...    ...      ...   \n",
      "871          872         1       1  female  47.0      1      1  52.5542   \n",
      "872          873         0       1    male  33.0      0      0   5.0000   \n",
      "879          880         1       1  female  56.0      0      1  83.1583   \n",
      "887          888         1       1  female  19.0      0      0  30.0000   \n",
      "889          890         1       1    male  26.0      0      0  30.0000   \n",
      "\n",
      "           Cabin  \n",
      "1            C85  \n",
      "3           C123  \n",
      "6            E46  \n",
      "10            G6  \n",
      "11          C103  \n",
      "..           ...  \n",
      "871          D35  \n",
      "872  B51 B53 B55  \n",
      "879          C50  \n",
      "887          B42  \n",
      "889         C148  \n",
      "\n",
      "[202 rows x 9 columns]\n"
     ]
    }
   ],
   "source": [
    "# 5. 불필요한 컬럼 제거\n",
    "df.drop([\"Name\", \"Ticket\", \"Embarked\"], axis=1, inplace=True)\n",
    "print(df)"
   ]
  },
  {
   "cell_type": "code",
   "execution_count": 12,
   "id": "6e33795a",
   "metadata": {},
   "outputs": [
    {
     "name": "stdout",
     "output_type": "stream",
     "text": [
      "     PassengerId  Survived  Pclass  Sex   Age  SibSp  Parch     Fare  Cabin\n",
      "1              2         1       1    0  38.0      1      0  71.2833     80\n",
      "3              4         1       1    0  35.0      1      0  53.1000     54\n",
      "6              7         0       1    1  54.0      0      0  51.8625    128\n",
      "10            11         1       3    0   4.0      1      1  16.7000    144\n",
      "11            12         1       1    0  58.0      0      0  26.5500     48\n",
      "..           ...       ...     ...  ...   ...    ...    ...      ...    ...\n",
      "871          872         1       1    0  47.0      1      1  52.5542    101\n",
      "872          873         0       1    1  33.0      0      0   5.0000     33\n",
      "879          880         1       1    0  56.0      0      1  83.1583     69\n",
      "887          888         1       1    0  19.0      0      0  30.0000     29\n",
      "889          890         1       1    1  26.0      0      0  30.0000     59\n",
      "\n",
      "[202 rows x 9 columns]\n"
     ]
    }
   ],
   "source": [
    "# 6. 인코딩(머신러닝과 딥러닝의 모든 값을 숫자로 변경, 단 머신러닝의 label은 제외)\n",
    "for column in df.select_dtypes(include=['object']).columns:\n",
    "    df[column] = encoder.fit_transform(df[column])\n",
    "print(df)"
   ]
  },
  {
   "cell_type": "code",
   "execution_count": 14,
   "id": "1560b4dc",
   "metadata": {},
   "outputs": [],
   "source": [
    "# 특징과 결과값 지정\n",
    "X = df.drop('Survived', axis=1)\n",
    "Y = df[\"Survived\"]\n",
    "\n",
    "# 훈련 데이터와 테스트 데이터 분리 (80% 훈련, 20% 테스트)\n",
    "X_train, X_test, y_train, y_test = train_test_split(X, Y, test_size=0.2, random_state=42)"
   ]
  },
  {
   "cell_type": "code",
   "execution_count": 15,
   "id": "7f8005c4",
   "metadata": {},
   "outputs": [
    {
     "name": "stdout",
     "output_type": "stream",
     "text": [
      "Linear Regression 모델\n",
      "정확도(Accuracy): 0.8536585365853658\n",
      "혼동 행렬(Confusion Matrix):\n",
      " [[ 7  1]\n",
      " [ 5 28]]\n",
      "Support Vector Machine 모델\n",
      "정확도(Accuracy): 0.8048780487804879\n",
      "혼동 행렬(Confusion Matrix):\n",
      " [[ 0  8]\n",
      " [ 0 33]]\n",
      "Random Forest 모델\n",
      "정확도(Accuracy): 0.8048780487804879\n",
      "혼동 행렬(Confusion Matrix):\n",
      " [[ 5  3]\n",
      " [ 5 28]]\n",
      "Decision Tree 모델\n",
      "정확도(Accuracy): 0.7317073170731707\n",
      "혼동 행렬(Confusion Matrix):\n",
      " [[ 3  5]\n",
      " [ 6 27]]\n",
      "K-Nearest Neighbors 모델\n",
      "정확도(Accuracy): 0.6829268292682927\n",
      "혼동 행렬(Confusion Matrix):\n",
      " [[ 3  5]\n",
      " [ 8 25]]\n"
     ]
    }
   ],
   "source": [
    "# 모델 정의\n",
    "models = {\n",
    "    'Linear Regression': LinearRegression(),\n",
    "    'Support Vector Machine': SVR(),\n",
    "    'Random Forest': RandomForestRegressor(),\n",
    "    'Decision Tree': DecisionTreeRegressor(),\n",
    "    'K-Nearest Neighbors': KNeighborsRegressor()\n",
    "}\n",
    "\n",
    "for model_name, model in models.items():\n",
    "    model.fit(X_train, y_train)  # 훈련\n",
    "    y_pred = model.predict(X_test)  # 예측\n",
    "    \n",
    "    # 연속적인 예측값을 0 또는 1로 변환해야 정확도와 혼동 행렬 확인 가능\n",
    "    y_pred_binary = np.where(y_pred > 0.5, 1, 0)\n",
    "\n",
    "\n",
    "    print(f\"{model_name} 모델\")\n",
    "    print(\"정확도(Accuracy):\", accuracy_score(y_test, y_pred_binary))\n",
    "    print(\"혼동 행렬(Confusion Matrix):\\n\", confusion_matrix(y_test, y_pred_binary))"
   ]
  },
  {
   "cell_type": "code",
   "execution_count": null,
   "id": "9fe70b33",
   "metadata": {},
   "outputs": [],
   "source": []
  }
 ],
 "metadata": {
  "kernelspec": {
   "display_name": "Python 3 (ipykernel)",
   "language": "python",
   "name": "python3"
  },
  "language_info": {
   "codemirror_mode": {
    "name": "ipython",
    "version": 3
   },
   "file_extension": ".py",
   "mimetype": "text/x-python",
   "name": "python",
   "nbconvert_exporter": "python",
   "pygments_lexer": "ipython3",
   "version": "3.9.7"
  }
 },
 "nbformat": 4,
 "nbformat_minor": 5
}
