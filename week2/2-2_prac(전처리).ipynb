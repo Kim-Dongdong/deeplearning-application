{
 "cells": [
  {
   "cell_type": "markdown",
   "id": "ff2d9944",
   "metadata": {},
   "source": [
    "2-2 데이터 전처리"
   ]
  },
  {
   "cell_type": "code",
   "execution_count": 30,
   "id": "cd22a86e",
   "metadata": {},
   "outputs": [],
   "source": [
    "# 데이터 입력\n",
    "fish_length = [25.4, 26.3, 26.5, 29.0, 29.0, 29.7, 29.7, 30.0, 30.0, 30.7, 31.0, 31.0, \n",
    "                31.5, 32.0, 32.0, 32.0, 33.0, 33.0, 33.5, 33.5, 34.0, 34.0, 34.5, 35.0, \n",
    "                35.0, 35.0, 35.0, 36.0, 36.0, 37.0, 38.5, 38.5, 39.5, 41.0, 41.0, 9.8, 10.5, 10.6, \n",
    "                11.0, 11.2, 11.3, 11.8, 11.8, 12.0, 12.2, 12.4, 13.0, 14.3, 15.0]\n",
    "fish_weight = [242.0, 290.0, 340.0, 363.0, 430.0, 450.0, 500.0, 390.0, 450.0, 500.0, 475.0, 500.0, \n",
    "                500.0, 340.0, 600.0, 600.0, 700.0, 700.0, 610.0, 650.0, 575.0, 685.0, 620.0, 680.0, \n",
    "                700.0, 725.0, 720.0, 714.0, 850.0, 1000.0, 920.0, 955.0, 925.0, 975.0, 950.0, 6.7, \n",
    "                7.5, 7.0, 9.7, 9.8, 8.7, 10.0, 9.9, 9.8, 12.2, 13.4, 12.2, 19.7, 19.9]"
   ]
  },
  {
   "cell_type": "code",
   "execution_count": 31,
   "id": "d52d1cfe",
   "metadata": {},
   "outputs": [],
   "source": [
    "# 넘파이 활용\n",
    "import numpy as np"
   ]
  },
  {
   "cell_type": "code",
   "execution_count": 32,
   "id": "bc176080",
   "metadata": {},
   "outputs": [
    {
     "name": "stdout",
     "output_type": "stream",
     "text": [
      "[[ 25.4 242. ]\n",
      " [ 26.3 290. ]\n",
      " [ 26.5 340. ]\n",
      " [ 29.  363. ]\n",
      " [ 29.  430. ]]\n"
     ]
    }
   ],
   "source": [
    "# column_stack(): 전달받은 리스트를 일렬로 세운 다음 차례대로 나란히 연결\n",
    "fish_data = np.column_stack((fish_length, fish_weight))\n",
    "# 확인\n",
    "print(fish_data[:5])"
   ]
  },
  {
   "cell_type": "code",
   "execution_count": 33,
   "id": "2f31bdfc",
   "metadata": {},
   "outputs": [
    {
     "name": "stdout",
     "output_type": "stream",
     "text": [
      "[1. 1. 1. 1. 1. 1. 1. 1. 1. 1. 1. 1. 1. 1. 1. 1. 1. 1. 1. 1. 1. 1. 1. 1.\n",
      " 1. 1. 1. 1. 1. 1. 1. 1. 1. 1. 1. 0. 0. 0. 0. 0. 0. 0. 0. 0. 0. 0. 0. 0.\n",
      " 0.]\n"
     ]
    }
   ],
   "source": [
    "# target 생성\n",
    "fish_target = np.concatenate((np.ones(35), np.zeros(14))) # 도미가1, 빙어가 0\n",
    "# 확인\n",
    "print(fish_target) "
   ]
  },
  {
   "cell_type": "code",
   "execution_count": 34,
   "id": "0406f181",
   "metadata": {},
   "outputs": [
    {
     "name": "stdout",
     "output_type": "stream",
     "text": [
      "(36, 2) (13, 2)\n",
      "[1. 0. 0. 0. 1. 1. 1. 1. 1. 1. 1. 1. 1.]\n"
     ]
    }
   ],
   "source": [
    "# train_test_split(): 전달되는 리스트나 배열을 비율에 맞게 훈련 세트와 테스트 세트로 나누어준다.\n",
    "from sklearn.model_selection import train_test_split\n",
    "\n",
    "train_input, test_input, train_target, test_target = train_test_split(fish_data, fish_target, random_state=42)\n",
    "\n",
    "# 잘 분할되었는지 확인\n",
    "print(train_input.shape, test_input.shape)\n",
    "print(test_target)"
   ]
  },
  {
   "cell_type": "code",
   "execution_count": 41,
   "id": "84a4c521",
   "metadata": {},
   "outputs": [
    {
     "name": "stdout",
     "output_type": "stream",
     "text": [
      "[0. 0. 1. 0. 1. 0. 1. 1. 1. 1. 1. 1. 1.]\n"
     ]
    }
   ],
   "source": [
    "# 그러나 도미가 10개, 빙어가 3개이므로 샘플링 편향이 나타났다.\n",
    "# 이는 train_test_split의 stratify 매개변수에 타깃 데이터를 전달해 해결한다.\n",
    "train_input, test_input, train_target, test_target = train_test_split(fish_data, fish_target, stratify=fish_target, random_state=42)\n",
    "\n",
    "# 확인\n",
    "print(test_target)"
   ]
  },
  {
   "cell_type": "code",
   "execution_count": 42,
   "id": "e08434a6",
   "metadata": {},
   "outputs": [
    {
     "data": {
      "text/plain": [
       "1.0"
      ]
     },
     "execution_count": 42,
     "metadata": {},
     "output_type": "execute_result"
    }
   ],
   "source": [
    "# KNN 모델 학습\n",
    "from sklearn.neighbors import KNeighborsClassifier\n",
    "kn = KNeighborsClassifier()\n",
    "kn.fit(train_input, train_target)\n",
    "kn.score(test_input, test_target)"
   ]
  },
  {
   "cell_type": "code",
   "execution_count": 43,
   "id": "5bd75e46",
   "metadata": {},
   "outputs": [
    {
     "name": "stdout",
     "output_type": "stream",
     "text": [
      "[0.]\n"
     ]
    }
   ],
   "source": [
    "# 새로운 데이터 확인\n",
    "print(kn.predict([[25, 150]]))# 새로운 데이터(도미1)\n",
    "# 그러나 0(빙어)으로 예측해버림"
   ]
  },
  {
   "cell_type": "code",
   "execution_count": 44,
   "id": "2ae0f2d5",
   "metadata": {},
   "outputs": [
    {
     "data": {
      "image/png": "[encoded data removed]",
      "text/plain": [
       "<Figure size 432x288 with 1 Axes>"
      ]
     },
     "metadata": {
      "needs_background": "light"
     },
     "output_type": "display_data"
    }
   ],
   "source": [
    "# 예측을 하지 못함. 산점도로 확인해보자\n",
    "import matplotlib.pyplot as plt\n",
    "plt.scatter(train_input[:,0], train_input[:,1]) # target값을 기준으로 나눔\n",
    "plt.scatter(25, 150, marker='^')\n",
    "plt.xlabel('length')\n",
    "plt.ylabel('weight')\n",
    "plt.show()"
   ]
  },
  {
   "cell_type": "code",
   "execution_count": null,
   "id": "ffc543b3",
   "metadata": {},
   "outputs": [
    {
     "data": {
      "image/png": "[encoded data removed]",
      "text/plain": [
       "<Figure size 432x288 with 1 Axes>"
      ]
     },
     "metadata": {
      "needs_background": "light"
     },
     "output_type": "display_data"
    }
   ],
   "source": [
    "# kneighbors() 메서드는 이웃까지의 거리와 이웃 샘플의 인덱스를 반환해준다.\n",
    "distances, indexes = kn.kneighbors([[25, 250]])\n",
    "\n",
    "# 산점도로 확인\n",
    "plt.scatter(train_input[:, 0], train_input[:,1]) # target값을 기준으로 나눔\n",
    "plt.scatter(25, 150, marker='^') # 새로운 데이터(도미1)\n",
    "plt.scatter(train_input[indexes,0], train_input[indexes,1], marker='D')\n",
    "plt.xlabel('length')\n",
    "plt.ylabel('weight')\n",
    "plt.show()\n",
    "# 여기선 산점도가 이상하게 나오지만 결과 예측은 0으로 나와 일단 진행하였다."
   ]
  },
  {
   "cell_type": "code",
   "execution_count": 46,
   "id": "063152b0",
   "metadata": {},
   "outputs": [
    {
     "name": "stdout",
     "output_type": "stream",
     "text": [
      "[[[ 25.4 242. ]\n",
      "  [ 32.  340. ]\n",
      "  [ 29.  363. ]\n",
      "  [ 30.  390. ]\n",
      "  [ 29.  430. ]]]\n"
     ]
    }
   ],
   "source": [
    "print(train_input[indexes])"
   ]
  },
  {
   "cell_type": "code",
   "execution_count": 47,
   "id": "f375386a",
   "metadata": {},
   "outputs": [
    {
     "name": "stdout",
     "output_type": "stream",
     "text": [
      "[0.]\n"
     ]
    }
   ],
   "source": [
    "# 산점도는 정상이지만, 0으로 예측\n",
    "print(kn.predict([[25, 150]]))# 새로운 데이터(도미1)"
   ]
  },
  {
   "cell_type": "code",
   "execution_count": 48,
   "id": "d19ac0d2",
   "metadata": {},
   "outputs": [
    {
     "data": {
      "image/png": "[encoded data removed]",
      "text/plain": [
       "<Figure size 432x288 with 1 Axes>"
      ]
     },
     "metadata": {
      "needs_background": "light"
     },
     "output_type": "display_data"
    }
   ],
   "source": [
    "# 기준점 맞추기\n",
    "# x축과 y축의 거리가 다르다\n",
    "plt.scatter(train_input[:, 0], train_input[:,1]) # target값을 기준으로 나눔\n",
    "plt.scatter(25, 150, marker='^') # 새로운 데이터(도미1)\n",
    "plt.scatter(train_input[indexes,0], train_input[indexes,1], marker='D')\n",
    "plt.xlim((0, 1000))\n",
    "plt.xlabel('length')\n",
    "plt.ylabel('weight')\n",
    "plt.show()"
   ]
  },
  {
   "cell_type": "code",
   "execution_count": 49,
   "id": "ebb4d923",
   "metadata": {},
   "outputs": [
    {
     "name": "stdout",
     "output_type": "stream",
     "text": [
      "[ 27.29722222 454.09722222] [  9.98244253 323.29893931]\n"
     ]
    }
   ],
   "source": [
    "# 두 특성의 값이 놓인 범위가 매우 다르다 -> 두 특성의 스케일이 다르다\n",
    "# 이런 알고리즘은 샘플간의 거리에 영향을 많이 받는다 -> 특성값을 일정한 기준으로 맞춰야 한다 -> 데이터 전처리\n",
    "# 가장 널리 사용하는 전처리 방법 중 하나는 표준점수이다. -> 평균을 빼고 표준편차를 나누어주면 된다.\n",
    "mean = np.mean(train_input, axis=0)\n",
    "std = np.std(train_input, axis=0)\n",
    "print(mean, std)"
   ]
  },
  {
   "cell_type": "code",
   "execution_count": 50,
   "id": "71b9ce22",
   "metadata": {},
   "outputs": [],
   "source": [
    "#  원본 데이터에서 평균을 빼고 표준편차로 나누어 표준점수로 변환\n",
    "train_scaled = (train_input - mean) / std # 넘파이의 브로드캐스팅 사용"
   ]
  },
  {
   "cell_type": "code",
   "execution_count": 51,
   "id": "8c92d28c",
   "metadata": {},
   "outputs": [
    {
     "data": {
      "image/png": "[encoded data removed]",
      "text/plain": [
       "<Figure size 432x288 with 1 Axes>"
      ]
     },
     "metadata": {
      "needs_background": "light"
     },
     "output_type": "display_data"
    }
   ],
   "source": [
    "# 전처리 데이터(표준점수)로 산점도 그려보기\n",
    "# 새로 들어가는 값도 표준점수를 통해서 입력되어야한다.\n",
    "new = ([25, 150] - mean) / std\n",
    "plt.scatter(train_scaled[:, 0], train_scaled[:,1]) \n",
    "plt.scatter(new[0], new[1], marker='^') # 새로운 데이터(도미1)\n",
    "plt.xlabel('length')\n",
    "plt.ylabel('weight')\n",
    "plt.show()"
   ]
  },
  {
   "cell_type": "code",
   "execution_count": 53,
   "id": "fa3a77f1",
   "metadata": {},
   "outputs": [
    {
     "data": {
      "text/plain": [
       "1.0"
      ]
     },
     "execution_count": 53,
     "metadata": {},
     "output_type": "execute_result"
    }
   ],
   "source": [
    "# 이 데이터셋으로 KNN 모델 다시 학습\n",
    "kn.fit(train_scaled, train_target)\n",
    "\n",
    "# 테스트 세트도 표준점수로 변환해야된다.\n",
    "test_scaled = (test_input - mean) / std\n",
    "\n",
    "# 모델 평가\n",
    "kn.score(test_scaled, test_target)"
   ]
  },
  {
   "cell_type": "code",
   "execution_count": 54,
   "id": "8ee0d300",
   "metadata": {},
   "outputs": [
    {
     "name": "stdout",
     "output_type": "stream",
     "text": [
      "[1.]\n"
     ]
    }
   ],
   "source": [
    "# 새로운 데이터 값 테스트\n",
    "print(kn.predict([new]))"
   ]
  },
  {
   "cell_type": "code",
   "execution_count": null,
   "id": "61964176",
   "metadata": {},
   "outputs": [],
   "source": []
  }
 ],
 "metadata": {
  "kernelspec": {
   "display_name": "Python 3 (ipykernel)",
   "language": "python",
   "name": "python3"
  },
  "language_info": {
   "codemirror_mode": {
    "name": "ipython",
    "version": 3
   },
   "file_extension": ".py",
   "mimetype": "text/x-python",
   "name": "python",
   "nbconvert_exporter": "python",
   "pygments_lexer": "ipython3",
   "version": "3.9.7"
  }
 },
 "nbformat": 4,
 "nbformat_minor": 5
}
